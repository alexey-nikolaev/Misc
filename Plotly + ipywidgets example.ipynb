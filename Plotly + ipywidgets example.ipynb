{
 "cells": [
  {
   "cell_type": "raw",
   "metadata": {},
   "source": [
    "<script>\n",
    "  jQuery(document).ready(function($) {  \n",
    "  \n",
    "  $(window).on('load', function(){\n",
    "    $('#preloader').fadeOut('slow',function(){$(this).remove();});\n",
    "  });\n",
    "  \n",
    "  });\n",
    "</script>\n",
    "\n",
    "<style type=\"text/css\">\n",
    "  div#preloader { position: fixed; \n",
    "      left: 0; \n",
    "      top: 0; \n",
    "      z-index: 999; \n",
    "      width: 100%; \n",
    "      height: 100%; \n",
    "      overflow: visible; \n",
    "      background: #fff url('http://preloaders.net/preloaders/720/Moving%20line.gif') no-repeat center center; \n",
    "  }\n",
    "\n",
    "</style>\n",
    "\n",
    "<div id=\"preloader\">\n",
    "\n",
    "</div>"
   ]
  },
  {
   "cell_type": "raw",
   "metadata": {},
   "source": [
    "<script>\n",
    "  function code_toggle() {\n",
    "    if (code_shown){\n",
    "      $('div.input').hide('500');\n",
    "      $('#toggleButton').val('Show Code')\n",
    "    } else {\n",
    "      $('div.input').show('500');\n",
    "      $('#toggleButton').val('Hide Code')\n",
    "    }\n",
    "    code_shown = !code_shown\n",
    "  } \n",
    "  \n",
    "  $( document ).ready(function(){\n",
    "    code_shown=false; \n",
    "    $('div.input').hide()\n",
    "  });\n",
    "</script>\n",
    "<form action=\"javascript:code_toggle()\"><input type=\"submit\" id=\"toggleButton\" value=\"Show Code\"></form>"
   ]
  },
  {
   "cell_type": "code",
   "execution_count": 1,
   "metadata": {},
   "outputs": [
    {
     "data": {
      "text/html": [
       "<script>requirejs.config({paths: { 'plotly': ['https://cdn.plot.ly/plotly-latest.min']},});if(!window.Plotly) {{require(['plotly'],function(plotly) {window.Plotly=plotly;});}}</script>"
      ],
      "text/vnd.plotly.v1+html": [
       "<script>requirejs.config({paths: { 'plotly': ['https://cdn.plot.ly/plotly-latest.min']},});if(!window.Plotly) {{require(['plotly'],function(plotly) {window.Plotly=plotly;});}}</script>"
      ]
     },
     "metadata": {},
     "output_type": "display_data"
    }
   ],
   "source": [
    "import numpy as np\n",
    "import pandas as pd\n",
    "\n",
    "from ipywidgets import interact, interactive, fixed, interact_manual\n",
    "import ipywidgets as widgets\n",
    "from IPython.display import display\n",
    "\n",
    "from plotly import graph_objs as go\n",
    "from plotly.offline import download_plotlyjs, init_notebook_mode, plot, iplot\n",
    "from plotly import tools\n",
    "\n",
    "init_notebook_mode(connected=True)"
   ]
  },
  {
   "cell_type": "code",
   "execution_count": 2,
   "metadata": {},
   "outputs": [],
   "source": [
    "df = pd.read_csv('Airplane_Crashes_and_Fatalities_Since_1908.csv')"
   ]
  },
  {
   "cell_type": "code",
   "execution_count": 3,
   "metadata": {},
   "outputs": [],
   "source": [
    "df['Date'] = df.Date.apply(lambda x: pd.to_datetime(x))\n",
    "df['Year'] = df.Date.apply(lambda x: x.year)\n",
    "df['Period'] = df.Date.apply(lambda x: (x.year // 10) * 10)"
   ]
  },
  {
   "cell_type": "code",
   "execution_count": 4,
   "metadata": {},
   "outputs": [],
   "source": [
    "df.Route.fillna('', inplace=True)\n",
    "df.Location.fillna('', inplace=True)"
   ]
  },
  {
   "cell_type": "code",
   "execution_count": 5,
   "metadata": {},
   "outputs": [],
   "source": [
    "def get_country(location):\n",
    "    parts = location.split(', ')\n",
    "    if len(parts) == 2:\n",
    "        return parts[1]\n",
    "    else:\n",
    "        return 'Other'"
   ]
  },
  {
   "cell_type": "code",
   "execution_count": 6,
   "metadata": {},
   "outputs": [],
   "source": [
    "df['Country'] = df.Location.apply(get_country)"
   ]
  },
  {
   "cell_type": "code",
   "execution_count": 7,
   "metadata": {},
   "outputs": [],
   "source": [
    "def plot_fatalities(route_point = 'All', route_point_type = 'from', period = [1908, 2009]):\n",
    "    \n",
    "    if route_point != 'All':\n",
    "        if route_point_type == 'from':\n",
    "            df_part = df[df.Route.str.contains(route_point + ' -')]\n",
    "        elif route_point_type == 'to':\n",
    "            df_part = df[df.Route.str.contains('- ' + route_point)]\n",
    "    else:\n",
    "        df_part = df\n",
    "        \n",
    "    df_part = df_part[df_part.Year >= period[0]]\n",
    "    df_part = df_part[df_part.Year <= period[1]]\n",
    "    \n",
    "    if len(df_part) == 0:\n",
    "        return None\n",
    "        \n",
    "    df_to_plot = df_part.pivot_table(\n",
    "        index = 'Country',\n",
    "        values = 'Fatalities',\n",
    "        aggfunc = np.sum\n",
    "    )\n",
    "\n",
    "    df_to_plot['Rank'] = df_to_plot.Fatalities.rank(ascending=False)\n",
    "    df_to_plot = df_to_plot.reset_index()\n",
    "    df_to_plot['Group'] = df_to_plot.apply(lambda row: row['Country'] if row['Rank'] <= 10 else 'Other', axis=1)\n",
    "\n",
    "    df_to_plot = df_to_plot.pivot_table(\n",
    "        index = 'Group',\n",
    "        values = 'Fatalities',\n",
    "        aggfunc = np.sum\n",
    "    )\n",
    "\n",
    "    data = []\n",
    "    trace = go.Pie(\n",
    "        labels=df_to_plot.index, values=df_to_plot.Fatalities\n",
    "    )\n",
    "    data.append(trace)\n",
    "\n",
    "    layout = go.Layout(\n",
    "        height=600,\n",
    "        width=900,\n",
    "        title='Airplane crashes fatalities by country, {}-{}, {}: {}'.format(\n",
    "            str(period[0]), str(period[1]), route_point_type, route_point\n",
    "        ),\n",
    "        yaxis = dict(title = 'Fatalities'),\n",
    "        xaxis = dict(title = 'Year'),\n",
    "        barmode = 'stack'\n",
    "    )\n",
    "\n",
    "    fig = go.Figure(data=data, layout=layout)\n",
    "\n",
    "    iplot(fig, filename='airplane_crashes', show_link=False)"
   ]
  },
  {
   "cell_type": "code",
   "execution_count": 8,
   "metadata": {},
   "outputs": [
    {
     "data": {
      "application/vnd.jupyter.widget-view+json": {
       "model_id": "7a90031255aa4b4cbc70297664d80545",
       "version_major": 2,
       "version_minor": 0
      },
      "text/plain": [
       "HBox(children=(IntRangeSlider(value=(1908, 2009), description='Period, years:', max=2009, min=1908), Dropdown(…"
      ]
     },
     "metadata": {},
     "output_type": "display_data"
    },
    {
     "data": {
      "application/vnd.jupyter.widget-view+json": {
       "model_id": "93cb218ca34f4589838bf141eae04dc6",
       "version_major": 2,
       "version_minor": 0
      },
      "text/plain": [
       "Output()"
      ]
     },
     "metadata": {},
     "output_type": "display_data"
    }
   ],
   "source": [
    "period_widget = widgets.IntRangeSlider(\n",
    "    value=[1908, 2009],\n",
    "    min=1908,\n",
    "    max=2009,\n",
    "    step=1,\n",
    "    description='Period, years:',\n",
    "    disabled=False,\n",
    "    continuous_update=True,\n",
    "    orientation='horizontal',\n",
    "    readout=True,\n",
    "    readout_format='d'\n",
    ")\n",
    "\n",
    "route_point_widget = widgets.Dropdown(\n",
    "    options=['All', 'Helsinki', 'Curacao', 'Amsterdam', 'London', 'New York', 'Paris', 'Berlin', 'Moscow'],\n",
    "    value='All',\n",
    "    description='Route point, city:',\n",
    "    disabled=False,\n",
    "    style={'description_width': 'initial'}\n",
    ")\n",
    "\n",
    "route_point_type_widget = widgets.RadioButtons(\n",
    "    options=['from', 'to'],\n",
    "    description='Route point type:',\n",
    "    disabled=False,\n",
    "    button_style='',\n",
    "    style={'description_width': 'initial'}\n",
    ")\n",
    "\n",
    "box_layout = widgets.Layout(justify_content='space-between')\n",
    "ui = widgets.HBox([period_widget, route_point_widget, route_point_type_widget], layout=box_layout)\n",
    "\n",
    "out = widgets.interactive_output(\n",
    "    plot_fatalities,\n",
    "    {'period': period_widget, 'route_point': route_point_widget, 'route_point_type': route_point_type_widget}\n",
    ")\n",
    "\n",
    "display(ui, out)"
   ]
  },
  {
   "cell_type": "raw",
   "metadata": {},
   "source": [
    "<script>\n",
    "  $(document).ready(function(){\n",
    "    $('div.prompt').hide();\n",
    "    $('div.back-to-top').hide();\n",
    "    $('nav#menubar').hide();\n",
    "    $('.breadcrumb').hide();\n",
    "    $('.hidden-print').hide();\n",
    "  });\n",
    "</script>\n",
    "\n",
    "<footer id=\"attribution\" style=\"float:right; color:#999; background:#fff;\">\n",
    "Created with Jupyter, delivered by Fastly, rendered by Rackspace.\n",
    "</footer>"
   ]
  }
 ],
 "metadata": {
  "kernelspec": {
   "display_name": "Python 3",
   "language": "python",
   "name": "python3"
  },
  "language_info": {
   "codemirror_mode": {
    "name": "ipython",
    "version": 3
   },
   "file_extension": ".py",
   "mimetype": "text/x-python",
   "name": "python",
   "nbconvert_exporter": "python",
   "pygments_lexer": "ipython3",
   "version": "3.7.0"
  }
 },
 "nbformat": 4,
 "nbformat_minor": 2
}

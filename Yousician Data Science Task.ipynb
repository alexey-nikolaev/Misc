{
 "cells": [
  {
   "cell_type": "code",
   "execution_count": 1,
   "metadata": {
    "ExecuteTime": {
     "end_time": "2018-07-10T10:52:32.677847Z",
     "start_time": "2018-07-10T10:52:31.436246Z"
    }
   },
   "outputs": [
    {
     "data": {
      "text/html": [
       "<script>requirejs.config({paths: { 'plotly': ['https://cdn.plot.ly/plotly-latest.min']},});if(!window.Plotly) {{require(['plotly'],function(plotly) {window.Plotly=plotly;});}}</script>"
      ],
      "text/vnd.plotly.v1+html": [
       "<script>requirejs.config({paths: { 'plotly': ['https://cdn.plot.ly/plotly-latest.min']},});if(!window.Plotly) {{require(['plotly'],function(plotly) {window.Plotly=plotly;});}}</script>"
      ]
     },
     "metadata": {},
     "output_type": "display_data"
    }
   ],
   "source": [
    "from __future__ import division\n",
    "\n",
    "import numpy as np\n",
    "import pandas as pd\n",
    "\n",
    "from scipy import stats\n",
    "\n",
    "from plotly import graph_objs as go\n",
    "from plotly.offline import download_plotlyjs, init_notebook_mode, plot, iplot\n",
    "\n",
    "init_notebook_mode(connected=True)\n",
    "\n",
    "import warnings\n",
    "warnings.filterwarnings(\"ignore\")"
   ]
  },
  {
   "cell_type": "markdown",
   "metadata": {},
   "source": [
    "## Data loading and exploration"
   ]
  },
  {
   "cell_type": "code",
   "execution_count": 2,
   "metadata": {
    "ExecuteTime": {
     "end_time": "2018-07-10T10:52:35.467906Z",
     "start_time": "2018-07-10T10:52:32.682221Z"
    }
   },
   "outputs": [
    {
     "data": {
      "text/html": [
       "<div>\n",
       "<style scoped>\n",
       "    .dataframe tbody tr th:only-of-type {\n",
       "        vertical-align: middle;\n",
       "    }\n",
       "\n",
       "    .dataframe tbody tr th {\n",
       "        vertical-align: top;\n",
       "    }\n",
       "\n",
       "    .dataframe thead th {\n",
       "        text-align: right;\n",
       "    }\n",
       "</style>\n",
       "<table border=\"1\" class=\"dataframe\">\n",
       "  <thead>\n",
       "    <tr style=\"text-align: right;\">\n",
       "      <th></th>\n",
       "      <th>event</th>\n",
       "      <th>uid</th>\n",
       "      <th>group</th>\n",
       "      <th>date</th>\n",
       "    </tr>\n",
       "  </thead>\n",
       "  <tbody>\n",
       "    <tr>\n",
       "      <th>0</th>\n",
       "      <td>app install</td>\n",
       "      <td>7fa732b517cbed14a48843d74526c11a</td>\n",
       "      <td>b</td>\n",
       "      <td>2015-03-04 11:07:41</td>\n",
       "    </tr>\n",
       "    <tr>\n",
       "      <th>1</th>\n",
       "      <td>app install</td>\n",
       "      <td>8df707a948fac1b4a0f97aa554886ec8</td>\n",
       "      <td>b</td>\n",
       "      <td>2015-03-04 12:05:36</td>\n",
       "    </tr>\n",
       "    <tr>\n",
       "      <th>2</th>\n",
       "      <td>app install</td>\n",
       "      <td>6e7b33fdea3adc80ebd648fffb665bb8</td>\n",
       "      <td>a</td>\n",
       "      <td>2015-03-04 12:09:50</td>\n",
       "    </tr>\n",
       "    <tr>\n",
       "      <th>3</th>\n",
       "      <td>account created</td>\n",
       "      <td>6e7b33fdea3adc80ebd648fffb665bb8</td>\n",
       "      <td>a</td>\n",
       "      <td>2015-03-04 12:17:50</td>\n",
       "    </tr>\n",
       "    <tr>\n",
       "      <th>4</th>\n",
       "      <td>minigame_played</td>\n",
       "      <td>6e7b33fdea3adc80ebd648fffb665bb8</td>\n",
       "      <td>a</td>\n",
       "      <td>2015-03-04 12:24:50</td>\n",
       "    </tr>\n",
       "  </tbody>\n",
       "</table>\n",
       "</div>"
      ],
      "text/plain": [
       "             event                               uid group  \\\n",
       "0      app install  7fa732b517cbed14a48843d74526c11a     b   \n",
       "1      app install  8df707a948fac1b4a0f97aa554886ec8     b   \n",
       "2      app install  6e7b33fdea3adc80ebd648fffb665bb8     a   \n",
       "3  account created  6e7b33fdea3adc80ebd648fffb665bb8     a   \n",
       "4  minigame_played  6e7b33fdea3adc80ebd648fffb665bb8     a   \n",
       "\n",
       "                  date  \n",
       "0  2015-03-04 11:07:41  \n",
       "1  2015-03-04 12:05:36  \n",
       "2  2015-03-04 12:09:50  \n",
       "3  2015-03-04 12:17:50  \n",
       "4  2015-03-04 12:24:50  "
      ]
     },
     "execution_count": 2,
     "metadata": {},
     "output_type": "execute_result"
    }
   ],
   "source": [
    "df = pd.read_csv('https://s3.amazonaws.com/yousician-public/tests/events.csv')\n",
    "df.head()"
   ]
  },
  {
   "cell_type": "code",
   "execution_count": 3,
   "metadata": {
    "ExecuteTime": {
     "end_time": "2018-07-10T10:52:36.421018Z",
     "start_time": "2018-07-10T10:52:35.472530Z"
    }
   },
   "outputs": [
    {
     "data": {
      "text/html": [
       "<div>\n",
       "<style scoped>\n",
       "    .dataframe tbody tr th:only-of-type {\n",
       "        vertical-align: middle;\n",
       "    }\n",
       "\n",
       "    .dataframe tbody tr th {\n",
       "        vertical-align: top;\n",
       "    }\n",
       "\n",
       "    .dataframe thead tr th {\n",
       "        text-align: left;\n",
       "    }\n",
       "\n",
       "    .dataframe thead tr:last-of-type th {\n",
       "        text-align: right;\n",
       "    }\n",
       "</style>\n",
       "<table border=\"1\" class=\"dataframe\">\n",
       "  <thead>\n",
       "    <tr>\n",
       "      <th></th>\n",
       "      <th colspan=\"2\" halign=\"left\">date</th>\n",
       "    </tr>\n",
       "    <tr>\n",
       "      <th></th>\n",
       "      <th>min</th>\n",
       "      <th>max</th>\n",
       "    </tr>\n",
       "    <tr>\n",
       "      <th>event</th>\n",
       "      <th></th>\n",
       "      <th></th>\n",
       "    </tr>\n",
       "  </thead>\n",
       "  <tbody>\n",
       "    <tr>\n",
       "      <th>account created</th>\n",
       "      <td>2015-03-04 12:17:50</td>\n",
       "      <td>2015-03-23 01:00:29</td>\n",
       "    </tr>\n",
       "    <tr>\n",
       "      <th>app install</th>\n",
       "      <td>2015-03-04 11:07:41</td>\n",
       "      <td>2015-03-21 09:00:20</td>\n",
       "    </tr>\n",
       "    <tr>\n",
       "      <th>minigame_played</th>\n",
       "      <td>2015-03-04 12:24:50</td>\n",
       "      <td>2015-04-09 19:27:00</td>\n",
       "    </tr>\n",
       "    <tr>\n",
       "      <th>song_played</th>\n",
       "      <td>2015-03-04 12:41:50</td>\n",
       "      <td>2015-04-08 19:27:00</td>\n",
       "    </tr>\n",
       "    <tr>\n",
       "      <th>subscribed</th>\n",
       "      <td>2015-03-04 13:15:38</td>\n",
       "      <td>2015-03-30 19:00:00</td>\n",
       "    </tr>\n",
       "    <tr>\n",
       "      <th>unsubscribed</th>\n",
       "      <td>2015-03-05 14:32:05</td>\n",
       "      <td>2015-04-03 19:17:00</td>\n",
       "    </tr>\n",
       "  </tbody>\n",
       "</table>\n",
       "</div>"
      ],
      "text/plain": [
       "                               date                    \n",
       "                                min                 max\n",
       "event                                                  \n",
       "account created 2015-03-04 12:17:50 2015-03-23 01:00:29\n",
       "app install     2015-03-04 11:07:41 2015-03-21 09:00:20\n",
       "minigame_played 2015-03-04 12:24:50 2015-04-09 19:27:00\n",
       "song_played     2015-03-04 12:41:50 2015-04-08 19:27:00\n",
       "subscribed      2015-03-04 13:15:38 2015-03-30 19:00:00\n",
       "unsubscribed    2015-03-05 14:32:05 2015-04-03 19:17:00"
      ]
     },
     "execution_count": 3,
     "metadata": {},
     "output_type": "execute_result"
    }
   ],
   "source": [
    "df['date'] = df.date.apply(lambda x: pd.to_datetime(x))\n",
    "df.groupby('event').agg({'date': ['min', 'max']})"
   ]
  },
  {
   "cell_type": "markdown",
   "metadata": {
    "ExecuteTime": {
     "end_time": "2018-07-10T07:07:44.209075Z",
     "start_time": "2018-07-10T07:07:44.201550Z"
    }
   },
   "source": [
    "We have 6 event types in the data, all events dates are within the range from the early March 2015 to the early April 2015."
   ]
  },
  {
   "cell_type": "code",
   "execution_count": 4,
   "metadata": {
    "ExecuteTime": {
     "end_time": "2018-07-10T10:52:36.450054Z",
     "start_time": "2018-07-10T10:52:36.425385Z"
    }
   },
   "outputs": [
    {
     "data": {
      "text/plain": [
       "group\n",
       "a    333\n",
       "b    333\n",
       "c    333\n",
       "Name: uid, dtype: int64"
      ]
     },
     "execution_count": 4,
     "metadata": {},
     "output_type": "execute_result"
    }
   ],
   "source": [
    "df.groupby('group').uid.nunique()"
   ]
  },
  {
   "cell_type": "markdown",
   "metadata": {},
   "source": [
    "Each of the 3 groups has an equal number of users, 333."
   ]
  },
  {
   "cell_type": "markdown",
   "metadata": {},
   "source": [
    "## The average number of song/minigame plays before a user subscribes"
   ]
  },
  {
   "cell_type": "markdown",
   "metadata": {},
   "source": [
    "Let's calculate subsription dates for all subscribed users."
   ]
  },
  {
   "cell_type": "code",
   "execution_count": 5,
   "metadata": {
    "ExecuteTime": {
     "end_time": "2018-07-10T10:52:36.574714Z",
     "start_time": "2018-07-10T10:52:36.454576Z"
    }
   },
   "outputs": [
    {
     "data": {
      "text/html": [
       "<div>\n",
       "<style scoped>\n",
       "    .dataframe tbody tr th:only-of-type {\n",
       "        vertical-align: middle;\n",
       "    }\n",
       "\n",
       "    .dataframe tbody tr th {\n",
       "        vertical-align: top;\n",
       "    }\n",
       "\n",
       "    .dataframe thead th {\n",
       "        text-align: right;\n",
       "    }\n",
       "</style>\n",
       "<table border=\"1\" class=\"dataframe\">\n",
       "  <thead>\n",
       "    <tr style=\"text-align: right;\">\n",
       "      <th></th>\n",
       "      <th>uid</th>\n",
       "      <th>date</th>\n",
       "    </tr>\n",
       "  </thead>\n",
       "  <tbody>\n",
       "    <tr>\n",
       "      <th>0</th>\n",
       "      <td>00411460f7c92d2124a67ea0f4cb5f85</td>\n",
       "      <td>2015-03-18 09:39:45</td>\n",
       "    </tr>\n",
       "    <tr>\n",
       "      <th>1</th>\n",
       "      <td>00ec53c4682d36f5c4359f4ae7bd7ba1</td>\n",
       "      <td>2015-03-12 17:30:24</td>\n",
       "    </tr>\n",
       "    <tr>\n",
       "      <th>2</th>\n",
       "      <td>01161aaa0b6d1345dd8fe4e481144d84</td>\n",
       "      <td>2015-03-09 21:11:03</td>\n",
       "    </tr>\n",
       "    <tr>\n",
       "      <th>3</th>\n",
       "      <td>01386bd6d8e091c2ab4c7c7de644d37b</td>\n",
       "      <td>2015-03-25 02:27:27</td>\n",
       "    </tr>\n",
       "    <tr>\n",
       "      <th>4</th>\n",
       "      <td>013d407166ec4fa56eb1e1f8cbe183b9</td>\n",
       "      <td>2015-03-20 17:15:05</td>\n",
       "    </tr>\n",
       "  </tbody>\n",
       "</table>\n",
       "</div>"
      ],
      "text/plain": [
       "                                uid                date\n",
       "0  00411460f7c92d2124a67ea0f4cb5f85 2015-03-18 09:39:45\n",
       "1  00ec53c4682d36f5c4359f4ae7bd7ba1 2015-03-12 17:30:24\n",
       "2  01161aaa0b6d1345dd8fe4e481144d84 2015-03-09 21:11:03\n",
       "3  01386bd6d8e091c2ab4c7c7de644d37b 2015-03-25 02:27:27\n",
       "4  013d407166ec4fa56eb1e1f8cbe183b9 2015-03-20 17:15:05"
      ]
     },
     "execution_count": 5,
     "metadata": {},
     "output_type": "execute_result"
    }
   ],
   "source": [
    "subscribed = df[df.event == 'subscribed'].groupby('uid').date.min().reset_index()\n",
    "subscribed.head()"
   ]
  },
  {
   "cell_type": "markdown",
   "metadata": {
    "ExecuteTime": {
     "end_time": "2018-07-10T07:16:34.184970Z",
     "start_time": "2018-07-10T07:16:34.177212Z"
    }
   },
   "source": [
    "We now select all the play events."
   ]
  },
  {
   "cell_type": "code",
   "execution_count": 6,
   "metadata": {
    "ExecuteTime": {
     "end_time": "2018-07-10T10:52:36.661801Z",
     "start_time": "2018-07-10T10:52:36.579027Z"
    }
   },
   "outputs": [
    {
     "data": {
      "text/html": [
       "<div>\n",
       "<style scoped>\n",
       "    .dataframe tbody tr th:only-of-type {\n",
       "        vertical-align: middle;\n",
       "    }\n",
       "\n",
       "    .dataframe tbody tr th {\n",
       "        vertical-align: top;\n",
       "    }\n",
       "\n",
       "    .dataframe thead th {\n",
       "        text-align: right;\n",
       "    }\n",
       "</style>\n",
       "<table border=\"1\" class=\"dataframe\">\n",
       "  <thead>\n",
       "    <tr style=\"text-align: right;\">\n",
       "      <th></th>\n",
       "      <th>event</th>\n",
       "      <th>uid</th>\n",
       "      <th>group</th>\n",
       "      <th>date</th>\n",
       "    </tr>\n",
       "  </thead>\n",
       "  <tbody>\n",
       "    <tr>\n",
       "      <th>4</th>\n",
       "      <td>minigame_played</td>\n",
       "      <td>6e7b33fdea3adc80ebd648fffb665bb8</td>\n",
       "      <td>a</td>\n",
       "      <td>2015-03-04 12:24:50</td>\n",
       "    </tr>\n",
       "    <tr>\n",
       "      <th>5</th>\n",
       "      <td>minigame_played</td>\n",
       "      <td>6e7b33fdea3adc80ebd648fffb665bb8</td>\n",
       "      <td>a</td>\n",
       "      <td>2015-03-04 12:31:50</td>\n",
       "    </tr>\n",
       "    <tr>\n",
       "      <th>6</th>\n",
       "      <td>song_played</td>\n",
       "      <td>6e7b33fdea3adc80ebd648fffb665bb8</td>\n",
       "      <td>a</td>\n",
       "      <td>2015-03-04 12:41:50</td>\n",
       "    </tr>\n",
       "    <tr>\n",
       "      <th>13</th>\n",
       "      <td>song_played</td>\n",
       "      <td>63923f49e5241343aa7acb6a06a751e7</td>\n",
       "      <td>c</td>\n",
       "      <td>2015-03-04 13:16:11</td>\n",
       "    </tr>\n",
       "    <tr>\n",
       "      <th>14</th>\n",
       "      <td>minigame_played</td>\n",
       "      <td>35f4a8d465e6e1edc05f3d8ab658c551</td>\n",
       "      <td>a</td>\n",
       "      <td>2015-03-04 13:21:38</td>\n",
       "    </tr>\n",
       "  </tbody>\n",
       "</table>\n",
       "</div>"
      ],
      "text/plain": [
       "              event                               uid group  \\\n",
       "4   minigame_played  6e7b33fdea3adc80ebd648fffb665bb8     a   \n",
       "5   minigame_played  6e7b33fdea3adc80ebd648fffb665bb8     a   \n",
       "6       song_played  6e7b33fdea3adc80ebd648fffb665bb8     a   \n",
       "13      song_played  63923f49e5241343aa7acb6a06a751e7     c   \n",
       "14  minigame_played  35f4a8d465e6e1edc05f3d8ab658c551     a   \n",
       "\n",
       "                  date  \n",
       "4  2015-03-04 12:24:50  \n",
       "5  2015-03-04 12:31:50  \n",
       "6  2015-03-04 12:41:50  \n",
       "13 2015-03-04 13:16:11  \n",
       "14 2015-03-04 13:21:38  "
      ]
     },
     "execution_count": 6,
     "metadata": {},
     "output_type": "execute_result"
    }
   ],
   "source": [
    "plays = df[df.event.isin({'song_played', 'minigame_played'})]\n",
    "plays.head()"
   ]
  },
  {
   "cell_type": "markdown",
   "metadata": {
    "ExecuteTime": {
     "end_time": "2018-07-10T07:20:22.571872Z",
     "start_time": "2018-07-10T07:20:22.565350Z"
    }
   },
   "source": [
    "And add subscription date for every user with a left join."
   ]
  },
  {
   "cell_type": "code",
   "execution_count": 7,
   "metadata": {
    "ExecuteTime": {
     "end_time": "2018-07-10T10:52:36.764045Z",
     "start_time": "2018-07-10T10:52:36.666167Z"
    }
   },
   "outputs": [
    {
     "data": {
      "text/html": [
       "<div>\n",
       "<style scoped>\n",
       "    .dataframe tbody tr th:only-of-type {\n",
       "        vertical-align: middle;\n",
       "    }\n",
       "\n",
       "    .dataframe tbody tr th {\n",
       "        vertical-align: top;\n",
       "    }\n",
       "\n",
       "    .dataframe thead th {\n",
       "        text-align: right;\n",
       "    }\n",
       "</style>\n",
       "<table border=\"1\" class=\"dataframe\">\n",
       "  <thead>\n",
       "    <tr style=\"text-align: right;\">\n",
       "      <th></th>\n",
       "      <th>event</th>\n",
       "      <th>uid</th>\n",
       "      <th>group</th>\n",
       "      <th>date</th>\n",
       "      <th>date_subscribed</th>\n",
       "    </tr>\n",
       "  </thead>\n",
       "  <tbody>\n",
       "    <tr>\n",
       "      <th>0</th>\n",
       "      <td>minigame_played</td>\n",
       "      <td>6e7b33fdea3adc80ebd648fffb665bb8</td>\n",
       "      <td>a</td>\n",
       "      <td>2015-03-04 12:24:50</td>\n",
       "      <td>NaT</td>\n",
       "    </tr>\n",
       "    <tr>\n",
       "      <th>1</th>\n",
       "      <td>minigame_played</td>\n",
       "      <td>6e7b33fdea3adc80ebd648fffb665bb8</td>\n",
       "      <td>a</td>\n",
       "      <td>2015-03-04 12:31:50</td>\n",
       "      <td>NaT</td>\n",
       "    </tr>\n",
       "    <tr>\n",
       "      <th>2</th>\n",
       "      <td>song_played</td>\n",
       "      <td>6e7b33fdea3adc80ebd648fffb665bb8</td>\n",
       "      <td>a</td>\n",
       "      <td>2015-03-04 12:41:50</td>\n",
       "      <td>NaT</td>\n",
       "    </tr>\n",
       "    <tr>\n",
       "      <th>3</th>\n",
       "      <td>song_played</td>\n",
       "      <td>63923f49e5241343aa7acb6a06a751e7</td>\n",
       "      <td>c</td>\n",
       "      <td>2015-03-04 13:16:11</td>\n",
       "      <td>NaT</td>\n",
       "    </tr>\n",
       "    <tr>\n",
       "      <th>4</th>\n",
       "      <td>minigame_played</td>\n",
       "      <td>35f4a8d465e6e1edc05f3d8ab658c551</td>\n",
       "      <td>a</td>\n",
       "      <td>2015-03-04 13:21:38</td>\n",
       "      <td>2015-03-04 13:15:38</td>\n",
       "    </tr>\n",
       "  </tbody>\n",
       "</table>\n",
       "</div>"
      ],
      "text/plain": [
       "             event                               uid group  \\\n",
       "0  minigame_played  6e7b33fdea3adc80ebd648fffb665bb8     a   \n",
       "1  minigame_played  6e7b33fdea3adc80ebd648fffb665bb8     a   \n",
       "2      song_played  6e7b33fdea3adc80ebd648fffb665bb8     a   \n",
       "3      song_played  63923f49e5241343aa7acb6a06a751e7     c   \n",
       "4  minigame_played  35f4a8d465e6e1edc05f3d8ab658c551     a   \n",
       "\n",
       "                 date     date_subscribed  \n",
       "0 2015-03-04 12:24:50                 NaT  \n",
       "1 2015-03-04 12:31:50                 NaT  \n",
       "2 2015-03-04 12:41:50                 NaT  \n",
       "3 2015-03-04 13:16:11                 NaT  \n",
       "4 2015-03-04 13:21:38 2015-03-04 13:15:38  "
      ]
     },
     "execution_count": 7,
     "metadata": {},
     "output_type": "execute_result"
    }
   ],
   "source": [
    "plays = plays.merge(subscribed, how='left', on='uid', suffixes=('', '_subscribed'))\n",
    "plays.head()"
   ]
  },
  {
   "cell_type": "markdown",
   "metadata": {
    "ExecuteTime": {
     "end_time": "2018-07-10T07:22:27.332739Z",
     "start_time": "2018-07-10T07:22:27.325200Z"
    }
   },
   "source": [
    "We can now calculate the number of plays before a subscription for every subsribed user."
   ]
  },
  {
   "cell_type": "code",
   "execution_count": 8,
   "metadata": {
    "ExecuteTime": {
     "end_time": "2018-07-10T10:52:36.915152Z",
     "start_time": "2018-07-10T10:52:36.768491Z"
    }
   },
   "outputs": [
    {
     "data": {
      "text/html": [
       "<div>\n",
       "<style scoped>\n",
       "    .dataframe tbody tr th:only-of-type {\n",
       "        vertical-align: middle;\n",
       "    }\n",
       "\n",
       "    .dataframe tbody tr th {\n",
       "        vertical-align: top;\n",
       "    }\n",
       "\n",
       "    .dataframe thead th {\n",
       "        text-align: right;\n",
       "    }\n",
       "</style>\n",
       "<table border=\"1\" class=\"dataframe\">\n",
       "  <thead>\n",
       "    <tr style=\"text-align: right;\">\n",
       "      <th></th>\n",
       "      <th>event</th>\n",
       "      <th>minigame_played</th>\n",
       "      <th>song_played</th>\n",
       "    </tr>\n",
       "    <tr>\n",
       "      <th>group</th>\n",
       "      <th>uid</th>\n",
       "      <th></th>\n",
       "      <th></th>\n",
       "    </tr>\n",
       "  </thead>\n",
       "  <tbody>\n",
       "    <tr>\n",
       "      <th rowspan=\"5\" valign=\"top\">a</th>\n",
       "      <th>00411460f7c92d2124a67ea0f4cb5f85</th>\n",
       "      <td>2</td>\n",
       "      <td>4</td>\n",
       "    </tr>\n",
       "    <tr>\n",
       "      <th>00ec53c4682d36f5c4359f4ae7bd7ba1</th>\n",
       "      <td>1</td>\n",
       "      <td>2</td>\n",
       "    </tr>\n",
       "    <tr>\n",
       "      <th>01386bd6d8e091c2ab4c7c7de644d37b</th>\n",
       "      <td>4</td>\n",
       "      <td>2</td>\n",
       "    </tr>\n",
       "    <tr>\n",
       "      <th>013d407166ec4fa56eb1e1f8cbe183b9</th>\n",
       "      <td>1</td>\n",
       "      <td>1</td>\n",
       "    </tr>\n",
       "    <tr>\n",
       "      <th>02e74f10e0327ad868d138f2b4fdd6f0</th>\n",
       "      <td>2</td>\n",
       "      <td>4</td>\n",
       "    </tr>\n",
       "  </tbody>\n",
       "</table>\n",
       "</div>"
      ],
      "text/plain": [
       "event                                   minigame_played  song_played\n",
       "group uid                                                           \n",
       "a     00411460f7c92d2124a67ea0f4cb5f85                2            4\n",
       "      00ec53c4682d36f5c4359f4ae7bd7ba1                1            2\n",
       "      01386bd6d8e091c2ab4c7c7de644d37b                4            2\n",
       "      013d407166ec4fa56eb1e1f8cbe183b9                1            1\n",
       "      02e74f10e0327ad868d138f2b4fdd6f0                2            4"
      ]
     },
     "execution_count": 8,
     "metadata": {},
     "output_type": "execute_result"
    }
   ],
   "source": [
    "plays_before_subscription = plays[\n",
    "    plays.date <= plays.date_subscribed\n",
    "].pivot_table(\n",
    "    index=['group', 'uid'],\n",
    "    columns='event',\n",
    "    values='date',\n",
    "    aggfunc='count',\n",
    "    fill_value=0\n",
    ")\n",
    "\n",
    "plays_before_subscription.head()"
   ]
  },
  {
   "cell_type": "markdown",
   "metadata": {
    "ExecuteTime": {
     "end_time": "2018-07-10T07:24:27.991972Z",
     "start_time": "2018-07-10T07:24:27.985223Z"
    }
   },
   "source": [
    "Then we calculate the average number of song/minigame plays before a user subscribes within each group."
   ]
  },
  {
   "cell_type": "code",
   "execution_count": 9,
   "metadata": {
    "ExecuteTime": {
     "end_time": "2018-07-10T10:52:37.023611Z",
     "start_time": "2018-07-10T10:52:36.919442Z"
    }
   },
   "outputs": [
    {
     "data": {
      "text/html": [
       "<div>\n",
       "<style scoped>\n",
       "    .dataframe tbody tr th:only-of-type {\n",
       "        vertical-align: middle;\n",
       "    }\n",
       "\n",
       "    .dataframe tbody tr th {\n",
       "        vertical-align: top;\n",
       "    }\n",
       "\n",
       "    .dataframe thead th {\n",
       "        text-align: right;\n",
       "    }\n",
       "</style>\n",
       "<table border=\"1\" class=\"dataframe\">\n",
       "  <thead>\n",
       "    <tr style=\"text-align: right;\">\n",
       "      <th>event</th>\n",
       "      <th>minigame_played</th>\n",
       "      <th>song_played</th>\n",
       "    </tr>\n",
       "    <tr>\n",
       "      <th>group</th>\n",
       "      <th></th>\n",
       "      <th></th>\n",
       "    </tr>\n",
       "  </thead>\n",
       "  <tbody>\n",
       "    <tr>\n",
       "      <th>a</th>\n",
       "      <td>2.184049</td>\n",
       "      <td>2.306748</td>\n",
       "    </tr>\n",
       "    <tr>\n",
       "      <th>b</th>\n",
       "      <td>2.177515</td>\n",
       "      <td>2.278107</td>\n",
       "    </tr>\n",
       "    <tr>\n",
       "      <th>c</th>\n",
       "      <td>2.018293</td>\n",
       "      <td>2.012195</td>\n",
       "    </tr>\n",
       "  </tbody>\n",
       "</table>\n",
       "</div>"
      ],
      "text/plain": [
       "event  minigame_played  song_played\n",
       "group                              \n",
       "a             2.184049     2.306748\n",
       "b             2.177515     2.278107\n",
       "c             2.018293     2.012195"
      ]
     },
     "execution_count": 9,
     "metadata": {},
     "output_type": "execute_result"
    }
   ],
   "source": [
    "plays_before_subscription.groupby(\n",
    "    'group'\n",
    ").mean()"
   ]
  },
  {
   "cell_type": "markdown",
   "metadata": {},
   "source": [
    "And among all the groups."
   ]
  },
  {
   "cell_type": "code",
   "execution_count": 10,
   "metadata": {
    "ExecuteTime": {
     "end_time": "2018-07-10T10:52:37.103140Z",
     "start_time": "2018-07-10T10:52:37.027019Z"
    }
   },
   "outputs": [
    {
     "data": {
      "text/plain": [
       "event\n",
       "minigame_played    2.127016\n",
       "song_played        2.199597\n",
       "dtype: float64"
      ]
     },
     "execution_count": 10,
     "metadata": {},
     "output_type": "execute_result"
    }
   ],
   "source": [
    "plays_before_subscription.mean()"
   ]
  },
  {
   "cell_type": "markdown",
   "metadata": {},
   "source": [
    "So the average number of minigame plays before a user subscribes is 2.13 and the average number of song plays before a user subscribes is 2.20."
   ]
  },
  {
   "cell_type": "markdown",
   "metadata": {},
   "source": [
    "## Conversion rates comparison"
   ]
  },
  {
   "cell_type": "markdown",
   "metadata": {},
   "source": [
    "Let's calculate an events funnel for all the 3 groups."
   ]
  },
  {
   "cell_type": "code",
   "execution_count": 11,
   "metadata": {
    "ExecuteTime": {
     "end_time": "2018-07-10T10:52:37.364829Z",
     "start_time": "2018-07-10T10:52:37.107534Z"
    }
   },
   "outputs": [
    {
     "data": {
      "text/html": [
       "<div>\n",
       "<style scoped>\n",
       "    .dataframe tbody tr th:only-of-type {\n",
       "        vertical-align: middle;\n",
       "    }\n",
       "\n",
       "    .dataframe tbody tr th {\n",
       "        vertical-align: top;\n",
       "    }\n",
       "\n",
       "    .dataframe thead th {\n",
       "        text-align: right;\n",
       "    }\n",
       "</style>\n",
       "<table border=\"1\" class=\"dataframe\">\n",
       "  <thead>\n",
       "    <tr style=\"text-align: right;\">\n",
       "      <th>event</th>\n",
       "      <th>init</th>\n",
       "      <th>account created</th>\n",
       "      <th>app install</th>\n",
       "      <th>minigame_played</th>\n",
       "      <th>song_played</th>\n",
       "      <th>subscribed</th>\n",
       "      <th>unsubscribed</th>\n",
       "    </tr>\n",
       "    <tr>\n",
       "      <th>group</th>\n",
       "      <th></th>\n",
       "      <th></th>\n",
       "      <th></th>\n",
       "      <th></th>\n",
       "      <th></th>\n",
       "      <th></th>\n",
       "      <th></th>\n",
       "    </tr>\n",
       "  </thead>\n",
       "  <tbody>\n",
       "    <tr>\n",
       "      <th>a</th>\n",
       "      <td>333</td>\n",
       "      <td>332</td>\n",
       "      <td>330</td>\n",
       "      <td>322</td>\n",
       "      <td>327</td>\n",
       "      <td>201</td>\n",
       "      <td>75</td>\n",
       "    </tr>\n",
       "    <tr>\n",
       "      <th>b</th>\n",
       "      <td>333</td>\n",
       "      <td>332</td>\n",
       "      <td>332</td>\n",
       "      <td>328</td>\n",
       "      <td>331</td>\n",
       "      <td>205</td>\n",
       "      <td>73</td>\n",
       "    </tr>\n",
       "    <tr>\n",
       "      <th>c</th>\n",
       "      <td>333</td>\n",
       "      <td>331</td>\n",
       "      <td>330</td>\n",
       "      <td>323</td>\n",
       "      <td>324</td>\n",
       "      <td>199</td>\n",
       "      <td>76</td>\n",
       "    </tr>\n",
       "  </tbody>\n",
       "</table>\n",
       "</div>"
      ],
      "text/plain": [
       "event  init  account created  app install  minigame_played  song_played  \\\n",
       "group                                                                     \n",
       "a       333              332          330              322          327   \n",
       "b       333              332          332              328          331   \n",
       "c       333              331          330              323          324   \n",
       "\n",
       "event  subscribed  unsubscribed  \n",
       "group                            \n",
       "a             201            75  \n",
       "b             205            73  \n",
       "c             199            76  "
      ]
     },
     "execution_count": 11,
     "metadata": {},
     "output_type": "execute_result"
    }
   ],
   "source": [
    "funnel = df.pivot_table(\n",
    "    index=['group', 'uid'],\n",
    "    columns='event',\n",
    "    values='date',\n",
    "    aggfunc='min'\n",
    ").applymap(\n",
    "    lambda x: 0 if pd.isnull(x) else 1\n",
    ").groupby(\n",
    "    'group'\n",
    ").sum(\n",
    "    axis=0\n",
    ")\n",
    "\n",
    "funnel['init'] = df.groupby('group').uid.nunique()\n",
    "funnel = funnel[['init'] + funnel.columns[:-1].tolist()]\n",
    "funnel"
   ]
  },
  {
   "cell_type": "markdown",
   "metadata": {},
   "source": [
    "The table shows the number of users in each group who had a particular event."
   ]
  },
  {
   "cell_type": "markdown",
   "metadata": {
    "ExecuteTime": {
     "end_time": "2018-07-10T07:31:07.891077Z",
     "start_time": "2018-07-10T07:31:07.883623Z"
    }
   },
   "source": [
    "Let's now normalize the funnel by the initial size of each group (333)."
   ]
  },
  {
   "cell_type": "code",
   "execution_count": 12,
   "metadata": {
    "ExecuteTime": {
     "end_time": "2018-07-10T10:52:37.479125Z",
     "start_time": "2018-07-10T10:52:37.369500Z"
    }
   },
   "outputs": [
    {
     "data": {
      "text/html": [
       "<div>\n",
       "<style scoped>\n",
       "    .dataframe tbody tr th:only-of-type {\n",
       "        vertical-align: middle;\n",
       "    }\n",
       "\n",
       "    .dataframe tbody tr th {\n",
       "        vertical-align: top;\n",
       "    }\n",
       "\n",
       "    .dataframe thead th {\n",
       "        text-align: right;\n",
       "    }\n",
       "</style>\n",
       "<table border=\"1\" class=\"dataframe\">\n",
       "  <thead>\n",
       "    <tr style=\"text-align: right;\">\n",
       "      <th></th>\n",
       "      <th>init</th>\n",
       "      <th>account created</th>\n",
       "      <th>app install</th>\n",
       "      <th>minigame_played</th>\n",
       "      <th>song_played</th>\n",
       "      <th>subscribed</th>\n",
       "      <th>unsubscribed</th>\n",
       "    </tr>\n",
       "    <tr>\n",
       "      <th>group</th>\n",
       "      <th></th>\n",
       "      <th></th>\n",
       "      <th></th>\n",
       "      <th></th>\n",
       "      <th></th>\n",
       "      <th></th>\n",
       "      <th></th>\n",
       "    </tr>\n",
       "  </thead>\n",
       "  <tbody>\n",
       "    <tr>\n",
       "      <th>a</th>\n",
       "      <td>100.0</td>\n",
       "      <td>99.7</td>\n",
       "      <td>99.1</td>\n",
       "      <td>96.7</td>\n",
       "      <td>98.2</td>\n",
       "      <td>60.36</td>\n",
       "      <td>22.52</td>\n",
       "    </tr>\n",
       "    <tr>\n",
       "      <th>b</th>\n",
       "      <td>100.0</td>\n",
       "      <td>99.7</td>\n",
       "      <td>99.7</td>\n",
       "      <td>98.5</td>\n",
       "      <td>99.4</td>\n",
       "      <td>61.56</td>\n",
       "      <td>21.92</td>\n",
       "    </tr>\n",
       "    <tr>\n",
       "      <th>c</th>\n",
       "      <td>100.0</td>\n",
       "      <td>99.4</td>\n",
       "      <td>99.1</td>\n",
       "      <td>97.0</td>\n",
       "      <td>97.3</td>\n",
       "      <td>59.76</td>\n",
       "      <td>22.82</td>\n",
       "    </tr>\n",
       "  </tbody>\n",
       "</table>\n",
       "</div>"
      ],
      "text/plain": [
       "        init  account created  app install  minigame_played  song_played  \\\n",
       "group                                                                      \n",
       "a      100.0             99.7         99.1             96.7         98.2   \n",
       "b      100.0             99.7         99.7             98.5         99.4   \n",
       "c      100.0             99.4         99.1             97.0         97.3   \n",
       "\n",
       "       subscribed  unsubscribed  \n",
       "group                            \n",
       "a           60.36         22.52  \n",
       "b           61.56         21.92  \n",
       "c           59.76         22.82  "
      ]
     },
     "execution_count": 12,
     "metadata": {},
     "output_type": "execute_result"
    }
   ],
   "source": [
    "pd.set_option('display.precision', 2)\n",
    "funnel_normalized = pd.DataFrame({})\n",
    "\n",
    "for col in funnel.columns:\n",
    "    funnel_normalized[col] = funnel[col] * 100. / funnel.init\n",
    "funnel_normalized"
   ]
  },
  {
   "cell_type": "markdown",
   "metadata": {},
   "source": [
    "Then we calculate most important conversions rates."
   ]
  },
  {
   "cell_type": "code",
   "execution_count": 13,
   "metadata": {
    "ExecuteTime": {
     "end_time": "2018-07-10T10:52:37.521062Z",
     "start_time": "2018-07-10T10:52:37.483530Z"
    }
   },
   "outputs": [
    {
     "data": {
      "text/html": [
       "<div>\n",
       "<style scoped>\n",
       "    .dataframe tbody tr th:only-of-type {\n",
       "        vertical-align: middle;\n",
       "    }\n",
       "\n",
       "    .dataframe tbody tr th {\n",
       "        vertical-align: top;\n",
       "    }\n",
       "\n",
       "    .dataframe thead th {\n",
       "        text-align: right;\n",
       "    }\n",
       "</style>\n",
       "<table border=\"1\" class=\"dataframe\">\n",
       "  <thead>\n",
       "    <tr style=\"text-align: right;\">\n",
       "      <th></th>\n",
       "      <th>init to account</th>\n",
       "      <th>account to install</th>\n",
       "      <th>install to first song</th>\n",
       "      <th>install to first minigame</th>\n",
       "      <th>first song to subscription</th>\n",
       "      <th>first minigame to subscription</th>\n",
       "      <th>subscription to unsubscription</th>\n",
       "    </tr>\n",
       "    <tr>\n",
       "      <th>group</th>\n",
       "      <th></th>\n",
       "      <th></th>\n",
       "      <th></th>\n",
       "      <th></th>\n",
       "      <th></th>\n",
       "      <th></th>\n",
       "      <th></th>\n",
       "    </tr>\n",
       "  </thead>\n",
       "  <tbody>\n",
       "    <tr>\n",
       "      <th>a</th>\n",
       "      <td>99.7</td>\n",
       "      <td>99.4</td>\n",
       "      <td>99.09</td>\n",
       "      <td>97.58</td>\n",
       "      <td>61.47</td>\n",
       "      <td>62.42</td>\n",
       "      <td>37.31</td>\n",
       "    </tr>\n",
       "    <tr>\n",
       "      <th>b</th>\n",
       "      <td>99.7</td>\n",
       "      <td>100.0</td>\n",
       "      <td>99.70</td>\n",
       "      <td>98.80</td>\n",
       "      <td>61.93</td>\n",
       "      <td>62.50</td>\n",
       "      <td>35.61</td>\n",
       "    </tr>\n",
       "    <tr>\n",
       "      <th>c</th>\n",
       "      <td>99.4</td>\n",
       "      <td>99.7</td>\n",
       "      <td>98.18</td>\n",
       "      <td>97.88</td>\n",
       "      <td>61.42</td>\n",
       "      <td>61.61</td>\n",
       "      <td>38.19</td>\n",
       "    </tr>\n",
       "  </tbody>\n",
       "</table>\n",
       "</div>"
      ],
      "text/plain": [
       "       init to account  account to install  install to first song  \\\n",
       "group                                                               \n",
       "a                 99.7                99.4                  99.09   \n",
       "b                 99.7               100.0                  99.70   \n",
       "c                 99.4                99.7                  98.18   \n",
       "\n",
       "       install to first minigame  first song to subscription  \\\n",
       "group                                                          \n",
       "a                          97.58                       61.47   \n",
       "b                          98.80                       61.93   \n",
       "c                          97.88                       61.42   \n",
       "\n",
       "       first minigame to subscription  subscription to unsubscription  \n",
       "group                                                                  \n",
       "a                               62.42                           37.31  \n",
       "b                               62.50                           35.61  \n",
       "c                               61.61                           38.19  "
      ]
     },
     "execution_count": 13,
     "metadata": {},
     "output_type": "execute_result"
    }
   ],
   "source": [
    "funnel_conversion = pd.DataFrame({})\n",
    "funnel_conversion['init to account'] = funnel_normalized['account created']\n",
    "funnel_conversion['account to install'] = funnel['app install'] * 100. / funnel['account created']\n",
    "funnel_conversion['install to first song'] = funnel['song_played'] * 100. / funnel['app install']\n",
    "funnel_conversion['install to first minigame'] = funnel['minigame_played'] * 100. / funnel['app install']\n",
    "funnel_conversion['first song to subscription'] = funnel['subscribed'] * 100. / funnel['song_played']\n",
    "funnel_conversion['first minigame to subscription'] = funnel['subscribed'] * 100. / funnel['minigame_played']\n",
    "funnel_conversion['subscription to unsubscription'] = funnel['unsubscribed'] * 100. / funnel['subscribed']\n",
    "funnel_conversion"
   ]
  },
  {
   "cell_type": "markdown",
   "metadata": {},
   "source": [
    "We can see from the table that the install to first song conversion rate which we are interested in is 99.09 for the control group A and 99.70 for the group B."
   ]
  },
  {
   "cell_type": "markdown",
   "metadata": {
    "ExecuteTime": {
     "end_time": "2018-07-10T07:32:02.101230Z",
     "start_time": "2018-07-10T07:32:02.093984Z"
    }
   },
   "source": [
    "Now let's plot the conversion rates."
   ]
  },
  {
   "cell_type": "code",
   "execution_count": 14,
   "metadata": {
    "ExecuteTime": {
     "end_time": "2018-07-10T10:52:37.666321Z",
     "start_time": "2018-07-10T10:52:37.525404Z"
    }
   },
   "outputs": [
    {
     "data": {
      "application/vnd.plotly.v1+json": {
       "data": [
        {
         "name": "a",
         "type": "bar",
         "x": [
          "init to account",
          "account to install",
          "install to first song",
          "install to first minigame",
          "first song to subscription",
          "first minigame to subscription",
          "subscription to unsubscription"
         ],
         "y": [
          99.69969969969969,
          99.39759036144578,
          99.0909090909091,
          97.57575757575758,
          61.46788990825688,
          62.422360248447205,
          37.3134328358209
         ]
        },
        {
         "name": "b",
         "type": "bar",
         "x": [
          "init to account",
          "account to install",
          "install to first song",
          "install to first minigame",
          "first song to subscription",
          "first minigame to subscription",
          "subscription to unsubscription"
         ],
         "y": [
          99.69969969969969,
          100,
          99.6987951807229,
          98.79518072289157,
          61.933534743202415,
          62.5,
          35.609756097560975
         ]
        },
        {
         "name": "c",
         "type": "bar",
         "x": [
          "init to account",
          "account to install",
          "install to first song",
          "install to first minigame",
          "first song to subscription",
          "first minigame to subscription",
          "subscription to unsubscription"
         ],
         "y": [
          99.3993993993994,
          99.69788519637463,
          98.18181818181819,
          97.87878787878788,
          61.41975308641975,
          61.60990712074303,
          38.19095477386934
         ]
        }
       ],
       "layout": {
        "barmode": "group",
        "margin": {
         "b": 150,
         "r": 150
        },
        "title": "Conversion rates by group"
       }
      },
      "text/html": [
       "<div id=\"15fd860c-3963-4f6b-8306-ff7dac17322f\" style=\"height: 525px; width: 100%;\" class=\"plotly-graph-div\"></div><script type=\"text/javascript\">require([\"plotly\"], function(Plotly) { window.PLOTLYENV=window.PLOTLYENV || {};window.PLOTLYENV.BASE_URL=\"https://plot.ly\";Plotly.newPlot(\"15fd860c-3963-4f6b-8306-ff7dac17322f\", [{\"y\": [99.69969969969969, 99.39759036144578, 99.0909090909091, 97.57575757575758, 61.46788990825688, 62.422360248447205, 37.3134328358209], \"x\": [\"init to account\", \"account to install\", \"install to first song\", \"install to first minigame\", \"first song to subscription\", \"first minigame to subscription\", \"subscription to unsubscription\"], \"type\": \"bar\", \"name\": \"a\"}, {\"y\": [99.69969969969969, 100.0, 99.6987951807229, 98.79518072289157, 61.933534743202415, 62.5, 35.609756097560975], \"x\": [\"init to account\", \"account to install\", \"install to first song\", \"install to first minigame\", \"first song to subscription\", \"first minigame to subscription\", \"subscription to unsubscription\"], \"type\": \"bar\", \"name\": \"b\"}, {\"y\": [99.3993993993994, 99.69788519637463, 98.18181818181819, 97.87878787878788, 61.41975308641975, 61.60990712074303, 38.19095477386934], \"x\": [\"init to account\", \"account to install\", \"install to first song\", \"install to first minigame\", \"first song to subscription\", \"first minigame to subscription\", \"subscription to unsubscription\"], \"type\": \"bar\", \"name\": \"c\"}], {\"barmode\": \"group\", \"margin\": {\"r\": 150, \"b\": 150}, \"title\": \"Conversion rates by group\"}, {\"linkText\": \"Export to plot.ly\", \"showLink\": false})});</script>"
      ],
      "text/vnd.plotly.v1+html": [
       "<div id=\"15fd860c-3963-4f6b-8306-ff7dac17322f\" style=\"height: 525px; width: 100%;\" class=\"plotly-graph-div\"></div><script type=\"text/javascript\">require([\"plotly\"], function(Plotly) { window.PLOTLYENV=window.PLOTLYENV || {};window.PLOTLYENV.BASE_URL=\"https://plot.ly\";Plotly.newPlot(\"15fd860c-3963-4f6b-8306-ff7dac17322f\", [{\"y\": [99.69969969969969, 99.39759036144578, 99.0909090909091, 97.57575757575758, 61.46788990825688, 62.422360248447205, 37.3134328358209], \"x\": [\"init to account\", \"account to install\", \"install to first song\", \"install to first minigame\", \"first song to subscription\", \"first minigame to subscription\", \"subscription to unsubscription\"], \"type\": \"bar\", \"name\": \"a\"}, {\"y\": [99.69969969969969, 100.0, 99.6987951807229, 98.79518072289157, 61.933534743202415, 62.5, 35.609756097560975], \"x\": [\"init to account\", \"account to install\", \"install to first song\", \"install to first minigame\", \"first song to subscription\", \"first minigame to subscription\", \"subscription to unsubscription\"], \"type\": \"bar\", \"name\": \"b\"}, {\"y\": [99.3993993993994, 99.69788519637463, 98.18181818181819, 97.87878787878788, 61.41975308641975, 61.60990712074303, 38.19095477386934], \"x\": [\"init to account\", \"account to install\", \"install to first song\", \"install to first minigame\", \"first song to subscription\", \"first minigame to subscription\", \"subscription to unsubscription\"], \"type\": \"bar\", \"name\": \"c\"}], {\"barmode\": \"group\", \"margin\": {\"r\": 150, \"b\": 150}, \"title\": \"Conversion rates by group\"}, {\"linkText\": \"Export to plot.ly\", \"showLink\": false})});</script>"
      ]
     },
     "metadata": {},
     "output_type": "display_data"
    }
   ],
   "source": [
    "data = []\n",
    "for row in funnel_conversion.iterrows():\n",
    "    trace = go.Bar(\n",
    "        x=row[1].index.tolist(),\n",
    "        y=row[1].tolist(),\n",
    "        name=row[0]\n",
    "    )\n",
    "    data.append(trace)\n",
    "    \n",
    "margin=go.Margin(\n",
    "    b=150,\n",
    "    r=150\n",
    ")\n",
    "\n",
    "layout = go.Layout(\n",
    "    title='Conversion rates by group',\n",
    "    barmode='group',\n",
    "    margin=margin\n",
    ")\n",
    "\n",
    "fig = go.Figure(data=data, layout=layout)\n",
    "iplot(fig, filename='grouped-bar', show_link=False)"
   ]
  },
  {
   "cell_type": "markdown",
   "metadata": {},
   "source": [
    "Almost all the conversion rates are pretty close among the groups."
   ]
  },
  {
   "cell_type": "markdown",
   "metadata": {},
   "source": [
    "Let's perform a statistical test to compare  the install to first song conversion rate in groups A and B. "
   ]
  },
  {
   "cell_type": "code",
   "execution_count": 15,
   "metadata": {
    "ExecuteTime": {
     "end_time": "2018-07-10T10:52:37.775053Z",
     "start_time": "2018-07-10T10:52:37.670885Z"
    }
   },
   "outputs": [
    {
     "name": "stdout",
     "output_type": "stream",
     "text": [
      "0.612\n"
     ]
    }
   ],
   "source": [
    "totals = [funnel['app install']['a'], funnel['app install']['b']]\n",
    "successes = [funnel['song_played']['a'], funnel['song_played']['b']]\n",
    "\n",
    "obs = np.array([\n",
    "    [successes[0], totals[0] - successes[0]],\n",
    "    [successes[1], totals[1] - successes[1]]\n",
    "])\n",
    "\n",
    "chi2, p, dof, ex = stats.chi2_contingency(obs)\n",
    "print '{0:0.3f}'.format(p)"
   ]
  },
  {
   "cell_type": "markdown",
   "metadata": {
    "collapsed": true
   },
   "source": [
    "The test says that there is no statistically significant difference in the install to first song conversion rates between the groups A and B."
   ]
  },
  {
   "cell_type": "markdown",
   "metadata": {},
   "source": [
    "We used a nonparametric chi-square contingency table test to compare the proportions. The test gives us a p-value that equals 0.612 that is higher than 0.05 or even 0.10, so we can't reject the null hypothesis that the proportions (the conversion rates) are equal among the groups. "
   ]
  },
  {
   "cell_type": "markdown",
   "metadata": {},
   "source": [
    "## A monetary evaluation of the group C experiment"
   ]
  },
  {
   "cell_type": "markdown",
   "metadata": {},
   "source": [
    "Let's perform the same statistical test as before to compare subscription and subscription to unsubscription rates in groups A and C. "
   ]
  },
  {
   "cell_type": "code",
   "execution_count": 16,
   "metadata": {
    "ExecuteTime": {
     "end_time": "2018-07-10T10:52:37.866472Z",
     "start_time": "2018-07-10T10:52:37.779310Z"
    }
   },
   "outputs": [
    {
     "name": "stdout",
     "output_type": "stream",
     "text": [
      "0.937\n"
     ]
    }
   ],
   "source": [
    "totals = [funnel['init']['a'], funnel['init']['c']]\n",
    "successes = [funnel['subscribed']['a'], funnel['subscribed']['c']]\n",
    "\n",
    "obs = np.array([\n",
    "    [successes[0], totals[0] - successes[0]],\n",
    "    [successes[1], totals[1] - successes[1]]\n",
    "])\n",
    "\n",
    "chi2, p, dof, ex = stats.chi2_contingency(obs)\n",
    "print '{0:0.3f}'.format(p)"
   ]
  },
  {
   "cell_type": "code",
   "execution_count": 17,
   "metadata": {
    "ExecuteTime": {
     "end_time": "2018-07-10T10:52:38.000912Z",
     "start_time": "2018-07-10T10:52:37.869705Z"
    }
   },
   "outputs": [
    {
     "name": "stdout",
     "output_type": "stream",
     "text": [
      "0.938\n"
     ]
    }
   ],
   "source": [
    "totals = [funnel['subscribed']['a'], funnel['subscribed']['c']]\n",
    "successes = [funnel['unsubscribed']['a'], funnel['unsubscribed']['c']]\n",
    "\n",
    "obs = np.array([\n",
    "    [successes[0], totals[0] - successes[0]],\n",
    "    [successes[1], totals[1] - successes[1]]\n",
    "])\n",
    "\n",
    "chi2, p, dof, ex = stats.chi2_contingency(obs)\n",
    "print '{0:0.3f}'.format(p)"
   ]
  },
  {
   "cell_type": "markdown",
   "metadata": {},
   "source": [
    "There is no statistically significant difference in both subscription and subscription to unsubscription rates between the groups."
   ]
  },
  {
   "cell_type": "markdown",
   "metadata": {},
   "source": [
    "Let's also compare the survival of users in the groups: how long they stay subscribed. We will use the lifelines library for the analysis."
   ]
  },
  {
   "cell_type": "markdown",
   "metadata": {},
   "source": [
    "First, let's prepare the data."
   ]
  },
  {
   "cell_type": "code",
   "execution_count": 18,
   "metadata": {
    "ExecuteTime": {
     "end_time": "2018-07-10T10:52:38.125818Z",
     "start_time": "2018-07-10T10:52:38.005065Z"
    }
   },
   "outputs": [
    {
     "data": {
      "text/html": [
       "<div>\n",
       "<style scoped>\n",
       "    .dataframe tbody tr th:only-of-type {\n",
       "        vertical-align: middle;\n",
       "    }\n",
       "\n",
       "    .dataframe tbody tr th {\n",
       "        vertical-align: top;\n",
       "    }\n",
       "\n",
       "    .dataframe thead tr th {\n",
       "        text-align: left;\n",
       "    }\n",
       "\n",
       "    .dataframe thead tr:last-of-type th {\n",
       "        text-align: right;\n",
       "    }\n",
       "</style>\n",
       "<table border=\"1\" class=\"dataframe\">\n",
       "  <thead>\n",
       "    <tr>\n",
       "      <th></th>\n",
       "      <th></th>\n",
       "      <th>start</th>\n",
       "      <th>end</th>\n",
       "    </tr>\n",
       "    <tr>\n",
       "      <th></th>\n",
       "      <th>event</th>\n",
       "      <th></th>\n",
       "      <th></th>\n",
       "    </tr>\n",
       "    <tr>\n",
       "      <th>group</th>\n",
       "      <th>uid</th>\n",
       "      <th></th>\n",
       "      <th></th>\n",
       "    </tr>\n",
       "  </thead>\n",
       "  <tbody>\n",
       "    <tr>\n",
       "      <th rowspan=\"5\" valign=\"top\">a</th>\n",
       "      <th>00411460f7c92d2124a67ea0f4cb5f85</th>\n",
       "      <td>2015-03-18 09:39:45</td>\n",
       "      <td>NaT</td>\n",
       "    </tr>\n",
       "    <tr>\n",
       "      <th>00ec53c4682d36f5c4359f4ae7bd7ba1</th>\n",
       "      <td>2015-03-12 17:30:24</td>\n",
       "      <td>2015-03-13 18:00:24</td>\n",
       "    </tr>\n",
       "    <tr>\n",
       "      <th>01386bd6d8e091c2ab4c7c7de644d37b</th>\n",
       "      <td>2015-03-25 02:27:27</td>\n",
       "      <td>NaT</td>\n",
       "    </tr>\n",
       "    <tr>\n",
       "      <th>013d407166ec4fa56eb1e1f8cbe183b9</th>\n",
       "      <td>2015-03-20 17:15:05</td>\n",
       "      <td>2015-03-21 17:15:05</td>\n",
       "    </tr>\n",
       "    <tr>\n",
       "      <th>02e74f10e0327ad868d138f2b4fdd6f0</th>\n",
       "      <td>2015-03-15 23:35:14</td>\n",
       "      <td>NaT</td>\n",
       "    </tr>\n",
       "  </tbody>\n",
       "</table>\n",
       "</div>"
      ],
      "text/plain": [
       "                                                     start                 end\n",
       "event                                                                         \n",
       "group uid                                                                     \n",
       "a     00411460f7c92d2124a67ea0f4cb5f85 2015-03-18 09:39:45                 NaT\n",
       "      00ec53c4682d36f5c4359f4ae7bd7ba1 2015-03-12 17:30:24 2015-03-13 18:00:24\n",
       "      01386bd6d8e091c2ab4c7c7de644d37b 2015-03-25 02:27:27                 NaT\n",
       "      013d407166ec4fa56eb1e1f8cbe183b9 2015-03-20 17:15:05 2015-03-21 17:15:05\n",
       "      02e74f10e0327ad868d138f2b4fdd6f0 2015-03-15 23:35:14                 NaT"
      ]
     },
     "execution_count": 18,
     "metadata": {},
     "output_type": "execute_result"
    }
   ],
   "source": [
    "start_end = df[df.event.isin({'subscribed', 'unsubscribed'})].pivot_table(\n",
    "    index=['group', 'uid'],\n",
    "    columns='event',\n",
    "    values='date',\n",
    "    aggfunc={'date': ['min', 'max']}\n",
    ")\n",
    "\n",
    "start_end['start'] = start_end['min']['subscribed']\n",
    "start_end['end'] = start_end['max']['unsubscribed']\n",
    "start_end = start_end[['start', 'end']]\n",
    "\n",
    "start_end.head()"
   ]
  },
  {
   "cell_type": "code",
   "execution_count": 19,
   "metadata": {
    "ExecuteTime": {
     "end_time": "2018-07-10T10:52:38.238306Z",
     "start_time": "2018-07-10T10:52:38.129943Z"
    }
   },
   "outputs": [],
   "source": [
    "from lifelines.utils import datetimes_to_durations\n",
    "T, E = datetimes_to_durations(start_end.start, start_end.end, freq='D', fill_date=df.date.max())"
   ]
  },
  {
   "cell_type": "code",
   "execution_count": 20,
   "metadata": {
    "ExecuteTime": {
     "end_time": "2018-07-10T10:52:38.397442Z",
     "start_time": "2018-07-10T10:52:38.242425Z"
    }
   },
   "outputs": [
    {
     "data": {
      "text/plain": [
       "<lifelines.KaplanMeierFitter: fitted with 606 observations, 382 censored>"
      ]
     },
     "execution_count": 20,
     "metadata": {},
     "output_type": "execute_result"
    }
   ],
   "source": [
    "from lifelines import KaplanMeierFitter\n",
    "kmf = KaplanMeierFitter()\n",
    "kmf.fit(T, event_observed=E)"
   ]
  },
  {
   "cell_type": "code",
   "execution_count": 21,
   "metadata": {
    "ExecuteTime": {
     "end_time": "2018-07-10T10:52:39.153825Z",
     "start_time": "2018-07-10T10:52:38.401638Z"
    }
   },
   "outputs": [
    {
     "data": {
      "text/plain": [
       "<matplotlib.axes._subplots.AxesSubplot at 0x7e186d0>"
      ]
     },
     "execution_count": 21,
     "metadata": {},
     "output_type": "execute_result"
    },
    {
     "data": {
      "image/png": "[encoded data removed]",
      "text/plain": [
       "<matplotlib.figure.Figure at 0x7408e90>"
      ]
     },
     "metadata": {},
     "output_type": "display_data"
    }
   ],
   "source": [
    "%matplotlib inline\n",
    "\n",
    "groups = start_end.index.get_level_values(0)\n",
    "ix_a = (groups == u'a')\n",
    "ix_c = (groups == u'c')\n",
    "\n",
    "kmf.fit(T[ix_a], E[ix_a], label='Group A (control)')\n",
    "ax = kmf.plot()\n",
    "\n",
    "kmf.fit(T[ix_c], E[ix_c], label='Group C (test)')\n",
    "kmf.plot(ax=ax, figsize=(20,8), title='Subscription survival curves comparison')"
   ]
  },
  {
   "cell_type": "markdown",
   "metadata": {},
   "source": [
    "Survival curves show the proportion of subsribed users that remains subsribed with each day after subscription (see the timeline)."
   ]
  },
  {
   "cell_type": "markdown",
   "metadata": {},
   "source": [
    "The confidence intervals for the survival curves on the graph intersect, so we can say that there is no statistically significant difference in subscription survival between the groups A and C."
   ]
  },
  {
   "cell_type": "markdown",
   "metadata": {},
   "source": [
    "There is no statistical difference in subscription survival time between the groups A and C, so we can just compare the actual amount of money that we recieved from the groups A and C during the experiment to choose the best option."
   ]
  },
  {
   "cell_type": "code",
   "execution_count": 22,
   "metadata": {
    "ExecuteTime": {
     "end_time": "2018-07-10T10:52:39.164625Z",
     "start_time": "2018-07-10T10:52:39.158116Z"
    }
   },
   "outputs": [],
   "source": [
    "def diff_weeks(start, end):\n",
    "    x = end - start\n",
    "    return int(x / np.timedelta64(1, 'W'))\n",
    "\n",
    "def diff_days(start, end):\n",
    "    x = end - start\n",
    "    return int(x / np.timedelta64(1, 'D'))"
   ]
  },
  {
   "cell_type": "markdown",
   "metadata": {},
   "source": [
    "We apply the first payment scheme (5 units per week even if it's incomplete) to the group A (control) and the second payment scheme (0.8 units per day even if it's incomplete) to the group C (test). I assume that all the payments are made in advance (at the beginning of a payment period)."
   ]
  },
  {
   "cell_type": "markdown",
   "metadata": {},
   "source": [
    "We use either the last date in the data or the unsubscription date as an end date for every subscribed user."
   ]
  },
  {
   "cell_type": "code",
   "execution_count": 23,
   "metadata": {
    "ExecuteTime": {
     "end_time": "2018-07-10T10:52:42.786880Z",
     "start_time": "2018-07-10T10:52:39.168609Z"
    }
   },
   "outputs": [
    {
     "name": "stdout",
     "output_type": "stream",
     "text": [
      "The total amount of money received from the group A: 2975.0\n",
      "The total amount of money received from the group received from the group C: 2768.8\n",
      "The average amount of money received from a subscribed user in the group A: 14.8\n",
      "The average amount of money received from a subscribed user in the group C: 13.9\n"
     ]
    }
   ],
   "source": [
    "start_end = start_end.fillna(df.date.max())\n",
    "\n",
    "start_end['weeks_paid'] = start_end.apply(lambda row: diff_weeks(row.start, row.end) + 1, axis=1)\n",
    "start_end['days_paid'] = start_end.apply(lambda row: diff_days(row.start, row.end) + 1, axis=1)\n",
    "\n",
    "start_end['weeks_paid_amount'] = start_end['weeks_paid'] * 5.\n",
    "start_end['days_paid_amount'] = start_end['days_paid'] * 0.8\n",
    "\n",
    "print 'The total amount of money received from the group A: %.1f\\nThe total amount of money received from the group received from the group C: %.1f' % (\n",
    "    start_end[ix_a].weeks_paid_amount.sum(),\n",
    "    start_end[ix_c].days_paid_amount.sum()\n",
    ")\n",
    "\n",
    "print 'The average amount of money received from a subscribed user in the group A: %.1f\\nThe average amount of money received from a subscribed user in the group C: %.1f' % (\n",
    "    start_end[ix_a].weeks_paid_amount.mean(),\n",
    "    start_end[ix_c].days_paid_amount.mean()\n",
    ")"
   ]
  },
  {
   "cell_type": "markdown",
   "metadata": {},
   "source": [
    "We can see that both the average amount of money received (per a subscribed user) and the total amount of money received is higher for the control group A."
   ]
  },
  {
   "cell_type": "markdown",
   "metadata": {
    "ExecuteTime": {
     "end_time": "2018-07-10T10:23:12.094898Z",
     "start_time": "2018-07-10T10:23:12.087919Z"
    }
   },
   "source": [
    "We can perform a statistical test to compare the average amount of money received from a subscribed user between the groups."
   ]
  },
  {
   "cell_type": "code",
   "execution_count": 24,
   "metadata": {
    "ExecuteTime": {
     "end_time": "2018-07-10T10:52:42.800114Z",
     "start_time": "2018-07-10T10:52:42.791201Z"
    }
   },
   "outputs": [
    {
     "name": "stdout",
     "output_type": "stream",
     "text": [
      "0.321\n"
     ]
    }
   ],
   "source": [
    "test = stats.ttest_ind(start_end[ix_a].weeks_paid_amount, start_end[ix_c].days_paid_amount)\n",
    "print '{0:0.3f}'.format(test.pvalue)"
   ]
  },
  {
   "cell_type": "markdown",
   "metadata": {
    "ExecuteTime": {
     "end_time": "2018-07-10T10:29:21.733923Z",
     "start_time": "2018-07-10T10:29:21.725963Z"
    }
   },
   "source": [
    "The test says that there is no statistically significant difference in the average amount of money received from a subscribed user between the groups A and C."
   ]
  },
  {
   "cell_type": "markdown",
   "metadata": {
    "ExecuteTime": {
     "end_time": "2018-07-10T10:30:12.834080Z",
     "start_time": "2018-07-10T10:30:12.825925Z"
    }
   },
   "source": [
    "We used a t-test for independent samples to compare the means. The test gives us a p-value that equals 0.321 that is higher than 0.05 or even 0.10, so we can't reject the null hypothesis that the means are equal among the groups."
   ]
  },
  {
   "cell_type": "markdown",
   "metadata": {},
   "source": [
    "Thus there is no statistically significant difference in subscription rates, subscription to unsubscription conversion rates, subscription survival and the average amount of money received from a subscribed user between the test (C) and the control (A) groups, and the control group has even brought us more money in total, so I see no reason why the company should switch to the payment scheme used in the group C."
   ]
  },
  {
   "cell_type": "markdown",
   "metadata": {},
   "source": [
    "## Short summary"
   ]
  },
  {
   "cell_type": "markdown",
   "metadata": {},
   "source": [
    "1. The average number of minigame plays before a user subscribes is 2.13 and the average number of song plays before a user subscribes is 2.20.\n",
    "2. There is no statistically significant difference in the conversion rate from account creation to the first song played between the group B and the control group.\n",
    "3. According to my calculations, the experiment of the group C does not bring more money to the company."
   ]
  }
 ],
 "metadata": {
  "kernelspec": {
   "display_name": "Python 2.7",
   "language": "python",
   "name": "python2"
  },
  "language_info": {
   "codemirror_mode": {
    "name": "ipython",
    "version": 2
   },
   "file_extension": ".py",
   "mimetype": "text/x-python",
   "name": "python",
   "nbconvert_exporter": "python",
   "pygments_lexer": "ipython2",
   "version": "2.7.3"
  }
 },
 "nbformat": 4,
 "nbformat_minor": 2
}

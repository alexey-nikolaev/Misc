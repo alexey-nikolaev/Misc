{
 "cells": [
  {
   "cell_type": "markdown",
   "metadata": {},
   "source": [
    "## Task 1"
   ]
  },
  {
   "cell_type": "markdown",
   "metadata": {},
   "source": [
    "1/2 is the probability of winning each match, all events independent. (1/2)^(n-1) is the probability that some team becomes clear winner. If one team became a clear winner other teams can't be clear winners at the same time, so we shouldn't consider these possibilities. We have n teams and any of them has equal chance to become a clear winner. The probabilty of having a clear winner will be n(1/2)^(n-1), so the probabilty of not having a clear winner will be 1-n(1/2)^(n-1)."
   ]
  },
  {
   "cell_type": "markdown",
   "metadata": {},
   "source": [
    "$$p=1-n\\left(\\frac{1}{2}\\right)^{n-1}=1-10\\left(\\frac{1}{2}\\right)^{9}=0.9805$$"
   ]
  },
  {
   "cell_type": "markdown",
   "metadata": {},
   "source": [
    "## Task 2\n",
    "### (a)"
   ]
  },
  {
   "cell_type": "markdown",
   "metadata": {},
   "source": [
    "This probabilty can found using hypergeometric distribution. We have N=50 candies in total, D=35 of them have the desired property (are black). The probability to draw k=20 black candies out of 35 can be calculated as"
   ]
  },
  {
   "cell_type": "markdown",
   "metadata": {},
   "source": [
    "$$p=\\frac{\\binom{D}{k}\\binom{N-D}{n-k}}{\\binom{N}{n}}=\\frac{\\binom{35}{20}\\binom{50-35}{25-20}}{\\binom{50}{25}}=\\frac{\\binom{35}{20}\\binom{15}{5}}{\\binom{50}{25}}=\\frac{\\frac{35!}{(35-20)!20!}\\frac{15!}{(15-5)!5!}}{\\frac{50!}{(50-25)!25!}}=\\frac{\\frac{35!}{15!20!}\\frac{15!}{10!5!}}{\\frac{50!}{25!25!}}=\\frac{35!15!25!25!}{15!20!10!5!50!}=0.0772$$"
   ]
  },
  {
   "cell_type": "markdown",
   "metadata": {},
   "source": [
    "### (b)"
   ]
  },
  {
   "cell_type": "markdown",
   "metadata": {
    "collapsed": true
   },
   "source": [
    "To find this probabilty we can use multivariate hypergeometric distribution."
   ]
  },
  {
   "cell_type": "markdown",
   "metadata": {},
   "source": [
    "We have two events, first one when we draw candies for the first time and write down numbers and second one when we draw for the second times. These two events are independent because we draw with replacement. So we need to calculate the probabilty of the first event and bring it to a square."
   ]
  },
  {
   "cell_type": "markdown",
   "metadata": {},
   "source": [
    "$$p=\\left(\\frac{\\binom{35}{n_0}\\binom{8}{n_1}\\binom{5}{n_2}\\binom{2}{n_3}}{\\binom{50}{25}} \\right)^2$$"
   ]
  },
  {
   "cell_type": "markdown",
   "metadata": {},
   "source": [
    "n0+n1+n2+n3=25. The answer will of course depend on n0...n3 because a rare combination will be harder to repeat than a common one."
   ]
  },
  {
   "cell_type": "markdown",
   "metadata": {},
   "source": [
    "## Task 3"
   ]
  },
  {
   "cell_type": "markdown",
   "metadata": {},
   "source": [
    "### (a)"
   ]
  },
  {
   "cell_type": "code",
   "execution_count": 29,
   "metadata": {
    "collapsed": false
   },
   "outputs": [
    {
     "name": "stdout",
     "output_type": "stream",
     "text": [
      "Populating the interactive namespace from numpy and matplotlib\n"
     ]
    }
   ],
   "source": [
    "import numpy as np\n",
    "import pandas as pd\n",
    "import seaborn as sns\n",
    "%pylab inline"
   ]
  },
  {
   "cell_type": "markdown",
   "metadata": {},
   "source": [
    "Let's implement the fuction from the task in Python:"
   ]
  },
  {
   "cell_type": "code",
   "execution_count": 115,
   "metadata": {
    "collapsed": true
   },
   "outputs": [],
   "source": [
    "def Fun(x1,x2,x3,x4):\n",
    "    while True:\n",
    "        if x3>0:\n",
    "            x3-=1\n",
    "            x4+=1\n",
    "        elif x2>0:\n",
    "            x2-=1\n",
    "            x3+=x4\n",
    "        elif x1>0:\n",
    "            x1-=1\n",
    "            x2+=x4\n",
    "            x4=1\n",
    "        else:\n",
    "            return x4"
   ]
  },
  {
   "cell_type": "markdown",
   "metadata": {},
   "source": [
    "When x1>0 the algorithm increases x2 by x4 first and only then makes x4=1. It must be some mistake and becomes a source of instability. We can get results only when x1, x2, x3 all become 0. But on its way to zero x2 increases x3 by x4, and x3 increases x4. As the result x4 can grow monotonically as long as all x1, x2 and x3 aren't exhausted."
   ]
  },
  {
   "cell_type": "markdown",
   "metadata": {},
   "source": [
    "We get numeric results for n1 from 0 to 4 only, after that computation begins to take too long:"
   ]
  },
  {
   "cell_type": "code",
   "execution_count": 118,
   "metadata": {
    "collapsed": false
   },
   "outputs": [
    {
     "name": "stdout",
     "output_type": "stream",
     "text": [
      "for n1=0 Fun(n1,0,0,1)=1\n",
      "for n1=1 Fun(n1,0,0,1)=2\n",
      "for n1=2 Fun(n1,0,0,1)=4\n",
      "for n1=3 Fun(n1,0,0,1)=16\n",
      "for n1=4 Fun(n1,0,0,1)=65536\n"
     ]
    }
   ],
   "source": [
    "for i in range(5):\n",
    "    print 'for n1=%d Fun(n1,0,0,1)=%d' % (i,Fun(i,0,0,1))"
   ]
  },
  {
   "cell_type": "markdown",
   "metadata": {},
   "source": [
    "Even with n1=4 we need more than 65536 steps of the algorithm to get the result cause x4 only grows by 1."
   ]
  },
  {
   "cell_type": "markdown",
   "metadata": {},
   "source": [
    "Let's make changes to the algorithm: it will store x values for each loop and will stop when the loop counter reaches some number."
   ]
  },
  {
   "cell_type": "code",
   "execution_count": 119,
   "metadata": {
    "collapsed": true
   },
   "outputs": [],
   "source": [
    "def Fun(x1,x2,x3,x4,stop):\n",
    "    x = []\n",
    "    counter = 0\n",
    "    while True:\n",
    "        x.append([x1,x2,x3,x4])\n",
    "        counter += 1\n",
    "        if counter==stop:\n",
    "            return np.array(x)\n",
    "        elif x3>0:\n",
    "            x3-=1\n",
    "            x4+=1\n",
    "        elif x2>0:\n",
    "            x2-=1\n",
    "            x3+=x4\n",
    "        elif x1>0:\n",
    "            x1-=1\n",
    "            x2+=x4\n",
    "            x4=1\n",
    "        else:\n",
    "            return x4"
   ]
  },
  {
   "cell_type": "markdown",
   "metadata": {},
   "source": [
    "Now we'll plot x values for different n1 to understand their behaviour."
   ]
  },
  {
   "cell_type": "code",
   "execution_count": 110,
   "metadata": {
    "collapsed": false
   },
   "outputs": [],
   "source": [
    "import matplotlib.pyplot as plt\n",
    "import numpy as np\n",
    "\n",
    "def plot_x(n1,stop):\n",
    "    x = Fun(n1,0,0,1,stop)\n",
    "    t = range(len(x))\n",
    "    x1 = [el[0] for el in x]\n",
    "    x2 = [el[1] for el in x]\n",
    "    x3 = [el[2] for el in x]\n",
    "    x4 = [el[3] for el in x]\n",
    "    \n",
    "    sns.set_context(\"paper\", font_scale=1.5)\n",
    "    sns.set_style(\"white\")\n",
    "    plt.rc('text', usetex=False)\n",
    "    fig, ax = plt.subplots(4, sharex=True, figsize=(12,12))\n",
    "    \n",
    "    for i, el in enumerate([x1,x2,x3,x4]):\n",
    "        if i==0:\n",
    "            ax[i].set_title('x in Fun(n1,0,0,1) for n1=%d' % (n1))\n",
    "        ax[i].plot(t, el)\n",
    "        ax[i].set_ylabel('x'+str(i+1))\n",
    "        ax[i].xaxis.grid()\n",
    "        ax[i].yaxis.grid()\n",
    "    \n",
    "    plt.xlabel('loop period, t')\n",
    "    plt.show()"
   ]
  },
  {
   "cell_type": "code",
   "execution_count": 111,
   "metadata": {
    "collapsed": false
   },
   "outputs": [
    {
     "data": {
      "image/png": "[encoded data removed]",
      "text/plain": [
       "<matplotlib.figure.Figure at 0x7fc677f31990>"
      ]
     },
     "metadata": {},
     "output_type": "display_data"
    }
   ],
   "source": [
    "plot_x(4,5000)"
   ]
  },
  {
   "cell_type": "code",
   "execution_count": 113,
   "metadata": {
    "collapsed": false
   },
   "outputs": [
    {
     "data": {
      "image/png": "[encoded data removed]",
      "text/plain": [
       "<matplotlib.figure.Figure at 0x7fc677e2d950>"
      ]
     },
     "metadata": {},
     "output_type": "display_data"
    }
   ],
   "source": [
    "plot_x(150,5000)"
   ]
  },
  {
   "cell_type": "markdown",
   "metadata": {},
   "source": [
    "As we can see from the plots above all the variables x demonstrate similar behaviour: x3 falls from its value to 0 and as a result it adds its value to x4. But after that x2 that is higher than 0 adds increased x4 back to x3 and the process repeats. After each going back to zero x3 multiplies itself by 2 with addition of initial x4 value. x2 always reach 16 before this explosion-like process begins."
   ]
  },
  {
   "cell_type": "markdown",
   "metadata": {},
   "source": [
    "### (b)"
   ]
  },
  {
   "cell_type": "markdown",
   "metadata": {},
   "source": [
    "The algorithm must bring all x1, x2 and x3 to zero to return a value (x4). x3 can go down to zero after x2 is exhausted (goes down to 0). x2 can go to zero when x1 is exhausted and becomes zero. But because of growing x4 with the growth of n1 the computational time will approach infinity. But this function will always return a value when all x1, x2 and x3 are exhausted."
   ]
  },
  {
   "cell_type": "markdown",
   "metadata": {
    "collapsed": true
   },
   "source": [
    "## Task 4\n",
    "### (a), (b)"
   ]
  },
  {
   "cell_type": "markdown",
   "metadata": {},
   "source": [
    "Let's load the data and see top rows."
   ]
  },
  {
   "cell_type": "code",
   "execution_count": 1,
   "metadata": {
    "collapsed": false
   },
   "outputs": [],
   "source": [
    "import pandas as pd\n",
    "data = pd.read_csv('eta_conversion_task_4.csv', index_col=0)"
   ]
  },
  {
   "cell_type": "code",
   "execution_count": 2,
   "metadata": {
    "collapsed": false
   },
   "outputs": [
    {
     "data": {
      "text/html": [
       "<div>\n",
       "<table border=\"1\" class=\"dataframe\">\n",
       "  <thead>\n",
       "    <tr style=\"text-align: right;\">\n",
       "      <th></th>\n",
       "      <th>norm_eta</th>\n",
       "      <th>conversion</th>\n",
       "    </tr>\n",
       "  </thead>\n",
       "  <tbody>\n",
       "    <tr>\n",
       "      <th>0</th>\n",
       "      <td>1.275654</td>\n",
       "      <td>1</td>\n",
       "    </tr>\n",
       "    <tr>\n",
       "      <th>1</th>\n",
       "      <td>0.977867</td>\n",
       "      <td>1</td>\n",
       "    </tr>\n",
       "    <tr>\n",
       "      <th>2</th>\n",
       "      <td>0.201207</td>\n",
       "      <td>1</td>\n",
       "    </tr>\n",
       "    <tr>\n",
       "      <th>3</th>\n",
       "      <td>2.084507</td>\n",
       "      <td>0</td>\n",
       "    </tr>\n",
       "    <tr>\n",
       "      <th>4</th>\n",
       "      <td>2.152918</td>\n",
       "      <td>0</td>\n",
       "    </tr>\n",
       "  </tbody>\n",
       "</table>\n",
       "</div>"
      ],
      "text/plain": [
       "   norm_eta  conversion\n",
       "0  1.275654           1\n",
       "1  0.977867           1\n",
       "2  0.201207           1\n",
       "3  2.084507           0\n",
       "4  2.152918           0"
      ]
     },
     "execution_count": 2,
     "metadata": {},
     "output_type": "execute_result"
    }
   ],
   "source": [
    "data.head()"
   ]
  },
  {
   "cell_type": "code",
   "execution_count": 10,
   "metadata": {
    "collapsed": false
   },
   "outputs": [
    {
     "data": {
      "text/html": [
       "<div>\n",
       "<table border=\"1\" class=\"dataframe\">\n",
       "  <thead>\n",
       "    <tr style=\"text-align: right;\">\n",
       "      <th></th>\n",
       "      <th>norm_eta</th>\n",
       "    </tr>\n",
       "    <tr>\n",
       "      <th>conversion</th>\n",
       "      <th></th>\n",
       "    </tr>\n",
       "  </thead>\n",
       "  <tbody>\n",
       "    <tr>\n",
       "      <th>0</th>\n",
       "      <td>268</td>\n",
       "    </tr>\n",
       "    <tr>\n",
       "      <th>1</th>\n",
       "      <td>206</td>\n",
       "    </tr>\n",
       "  </tbody>\n",
       "</table>\n",
       "</div>"
      ],
      "text/plain": [
       "            norm_eta\n",
       "conversion          \n",
       "0                268\n",
       "1                206"
      ]
     },
     "execution_count": 10,
     "metadata": {},
     "output_type": "execute_result"
    }
   ],
   "source": [
    "data.groupby(by=data.conversion).count()"
   ]
  },
  {
   "cell_type": "markdown",
   "metadata": {},
   "source": [
    "We have 268 cases for zero conversion and 206 cases for conversion=1."
   ]
  },
  {
   "cell_type": "markdown",
   "metadata": {},
   "source": [
    "Let's draw norm_eta distribution histograms for coversion=0 and conversion=1 cases."
   ]
  },
  {
   "cell_type": "code",
   "execution_count": 3,
   "metadata": {
    "collapsed": false
   },
   "outputs": [],
   "source": [
    "import seaborn as sns"
   ]
  },
  {
   "cell_type": "code",
   "execution_count": 4,
   "metadata": {
    "collapsed": false
   },
   "outputs": [
    {
     "name": "stdout",
     "output_type": "stream",
     "text": [
      "Populating the interactive namespace from numpy and matplotlib\n"
     ]
    }
   ],
   "source": [
    "%pylab inline"
   ]
  },
  {
   "cell_type": "code",
   "execution_count": 82,
   "metadata": {
    "collapsed": false
   },
   "outputs": [
    {
     "data": {
      "image/png": "[encoded data removed]",
      "text/plain": [
       "<matplotlib.figure.Figure at 0xc990fb0>"
      ]
     },
     "metadata": {},
     "output_type": "display_data"
    }
   ],
   "source": [
    "sns.set_context(\"paper\", font_scale=1.5)\n",
    "sns.set_style(\"white\")\n",
    "plt.rc('text', usetex=False)\n",
    "fig, ax = plt.subplots(figsize=(6,4))\n",
    "sns.despine(left=True)\n",
    "\n",
    "eta0=data[data.conversion == 0].norm_eta\n",
    "eta1=data[data.conversion == 1].norm_eta\n",
    "\n",
    "labels=['Conversion=0','Conversion=1']\n",
    "\n",
    "ax.hist([eta0, eta1], bins=10, histtype='bar', align='mid', label=labels, alpha=0.9)\n",
    "\n",
    "ax.set_xlabel('norm_eta')\n",
    "plt.xticks(range(11))\n",
    "ax.get_yaxis().set_visible(False)\n",
    "ax.legend()\n",
    "plt.show()"
   ]
  },
  {
   "cell_type": "markdown",
   "metadata": {},
   "source": [
    "Both distribution have the same modal interval, from 1 to 2."
   ]
  },
  {
   "cell_type": "markdown",
   "metadata": {},
   "source": [
    "Let's calculate norm_eta means for both series and compare them."
   ]
  },
  {
   "cell_type": "code",
   "execution_count": 42,
   "metadata": {
    "collapsed": false
   },
   "outputs": [
    {
     "data": {
      "text/html": [
       "<div>\n",
       "<table border=\"1\" class=\"dataframe\">\n",
       "  <thead>\n",
       "    <tr style=\"text-align: right;\">\n",
       "      <th></th>\n",
       "      <th>norm_eta</th>\n",
       "    </tr>\n",
       "    <tr>\n",
       "      <th>conversion</th>\n",
       "      <th></th>\n",
       "    </tr>\n",
       "  </thead>\n",
       "  <tbody>\n",
       "    <tr>\n",
       "      <th>0</th>\n",
       "      <td>2.17026</td>\n",
       "    </tr>\n",
       "    <tr>\n",
       "      <th>1</th>\n",
       "      <td>1.77330</td>\n",
       "    </tr>\n",
       "  </tbody>\n",
       "</table>\n",
       "</div>"
      ],
      "text/plain": [
       "            norm_eta\n",
       "conversion          \n",
       "0            2.17026\n",
       "1            1.77330"
      ]
     },
     "execution_count": 42,
     "metadata": {},
     "output_type": "execute_result"
    }
   ],
   "source": [
    "data.groupby(by=data.conversion).mean()"
   ]
  },
  {
   "cell_type": "markdown",
   "metadata": {},
   "source": [
    "For both groups of cases average norm_eta is close to 2. Let's check whether we have a statistically significant difference in means or not."
   ]
  },
  {
   "cell_type": "markdown",
   "metadata": {},
   "source": [
    "It's clear from the distribution plots above that data aren't normally distributed, so we need to use non-parametric test for independent samples in order to compare means. We will use Mann-Whitney U test with an alternative hypotesis that we have greater norm_eta for zero conversion cases."
   ]
  },
  {
   "cell_type": "code",
   "execution_count": 86,
   "metadata": {
    "collapsed": false
   },
   "outputs": [
    {
     "data": {
      "text/plain": [
       "MannwhitneyuResult(statistic=31155.5, pvalue=0.0081501234144581609)"
      ]
     },
     "execution_count": 86,
     "metadata": {},
     "output_type": "execute_result"
    }
   ],
   "source": [
    "from scipy import stats\n",
    "stats.mannwhitneyu(eta0, eta1, alternative='greater')"
   ]
  },
  {
   "cell_type": "markdown",
   "metadata": {},
   "source": [
    "Mann-Whitney U test p-value is less than 0.01 so we clearly reject the null hypotesis of equal means in favor of an alternative that have greater norm_eta for zero conversion even at 1% significance level. Although this difference is statistically significant in practice it's not high, just 0.4. "
   ]
  },
  {
   "cell_type": "markdown",
   "metadata": {},
   "source": [
    "We will now compute 0 conversion cases share for each histogram bin."
   ]
  },
  {
   "cell_type": "code",
   "execution_count": 43,
   "metadata": {
    "collapsed": false
   },
   "outputs": [],
   "source": [
    "import numpy as np"
   ]
  },
  {
   "cell_type": "code",
   "execution_count": 62,
   "metadata": {
    "collapsed": true
   },
   "outputs": [],
   "source": [
    "r_min, r_max = data.norm_eta.min(), data.norm_eta.max()\n",
    "hist0 = np.histogram(eta0, bins=10, range=[r_min, r_max])\n",
    "hist1 = np.histogram(eta1, bins=10, range=[r_min, r_max])"
   ]
  },
  {
   "cell_type": "code",
   "execution_count": 63,
   "metadata": {
    "collapsed": false
   },
   "outputs": [
    {
     "data": {
      "text/plain": [
       "(array([62, 83, 55, 36, 19,  6,  4,  2,  0,  1]),\n",
       " array([  0.,   1.,   2.,   3.,   4.,   5.,   6.,   7.,   8.,   9.,  10.]))"
      ]
     },
     "execution_count": 63,
     "metadata": {},
     "output_type": "execute_result"
    }
   ],
   "source": [
    "hist0"
   ]
  },
  {
   "cell_type": "code",
   "execution_count": 64,
   "metadata": {
    "collapsed": false
   },
   "outputs": [
    {
     "data": {
      "text/plain": [
       "(array([58, 69, 51, 19,  8,  1,  0,  0,  0,  0]),\n",
       " array([  0.,   1.,   2.,   3.,   4.,   5.,   6.,   7.,   8.,   9.,  10.]))"
      ]
     },
     "execution_count": 64,
     "metadata": {},
     "output_type": "execute_result"
    }
   ],
   "source": [
    "hist1"
   ]
  },
  {
   "cell_type": "code",
   "execution_count": 65,
   "metadata": {
    "collapsed": false
   },
   "outputs": [],
   "source": [
    "shares0 = []\n",
    "for x0, x1 in zip(hist0[0], hist1[0]):\n",
    "    shares0.append(x0*1./(x0+x1))\n",
    "shares0 = np.array(shares0)"
   ]
  },
  {
   "cell_type": "code",
   "execution_count": 66,
   "metadata": {
    "collapsed": false
   },
   "outputs": [
    {
     "data": {
      "text/plain": [
       "array([ 0.51666667,  0.54605263,  0.51886792,  0.65454545,  0.7037037 ,\n",
       "        0.85714286,  1.        ,  1.        ,         nan,  1.        ])"
      ]
     },
     "execution_count": 66,
     "metadata": {},
     "output_type": "execute_result"
    }
   ],
   "source": [
    "shares0"
   ]
  },
  {
   "cell_type": "code",
   "execution_count": 92,
   "metadata": {
    "collapsed": false
   },
   "outputs": [
    {
     "data": {
      "image/png": "[encoded data removed]",
      "text/plain": [
       "<matplotlib.figure.Figure at 0xa5992b0>"
      ]
     },
     "metadata": {},
     "output_type": "display_data"
    }
   ],
   "source": [
    "sns.set_context(\"paper\", font_scale=1.5)\n",
    "sns.set_style(\"white\")\n",
    "plt.rc('text', usetex=False)\n",
    "fig, ax = plt.subplots(figsize=(6,4))\n",
    "\n",
    "hist, bins = shares0, hist0[1]\n",
    "width = 0.7 * (bins[1] - bins[0])\n",
    "center = (bins[:-1] + bins[1:]) / 2\n",
    "plt.bar(center, hist, align='center', width=width, alpha=0.9)\n",
    "ax.set_xlabel('norm_eta')\n",
    "plt.xticks(range(11))\n",
    "plt.yticks([0, .1, .2, .3, .4, .5, .6, .7, .8, .9, 1.])\n",
    "vals = ax.get_yticks()\n",
    "ax.set_yticklabels(['{:3.0f}%'.format(x*100) for x in vals])\n",
    "plt.title('Share of conversion=0 cases')\n",
    "plt.plot([0, 10], [.5, .5], 'k--', color='red')\n",
    "plt.show()"
   ]
  },
  {
   "cell_type": "markdown",
   "metadata": {},
   "source": [
    "We can see from the graph that conversion=0 cases share becomes substantially higher than 0.5 after norm_eta reaches 3 and grows steadily. When norm_eta is higher than 6 conversion will be zero in all cases (100%). "
   ]
  },
  {
   "cell_type": "markdown",
   "metadata": {},
   "source": [
    "## Task 5"
   ]
  },
  {
   "cell_type": "markdown",
   "metadata": {},
   "source": [
    "## (a)"
   ]
  },
  {
   "cell_type": "markdown",
   "metadata": {},
   "source": [
    "To evaluate affiliates performance we need to calculate financial results for users invited by them comparing revenues with losses and costs. First we take affiliates from the users table and find promocodes belonging to them in the promocodes table. Next we need to find users invited with these promocodes in the users table. After that we will take orders done by invited users from the orders table. We need to compare revenue with losses and costs for each affiliate and users invited by him."
   ]
  },
  {
   "cell_type": "markdown",
   "metadata": {},
   "source": [
    "We won't consider users invited by users invited by affiliates cause it's inviting users' archievement and we don't know when this network process will end and how far it can go. We will consider direct effect only."
   ]
  },
  {
   "cell_type": "markdown",
   "metadata": {},
   "source": [
    "## (b)"
   ]
  },
  {
   "cell_type": "markdown",
   "metadata": {},
   "source": [
    "First we load the datasets."
   ]
  },
  {
   "cell_type": "code",
   "execution_count": 123,
   "metadata": {
    "collapsed": true
   },
   "outputs": [],
   "source": [
    "orders = pd.read_csv('orders_task5-4-2.csv')"
   ]
  },
  {
   "cell_type": "code",
   "execution_count": 124,
   "metadata": {
    "collapsed": false
   },
   "outputs": [
    {
     "data": {
      "text/html": [
       "<div>\n",
       "<table border=\"1\" class=\"dataframe\">\n",
       "  <thead>\n",
       "    <tr style=\"text-align: right;\">\n",
       "      <th></th>\n",
       "      <th>order_id</th>\n",
       "      <th>s_at</th>\n",
       "      <th>price</th>\n",
       "      <th>credit</th>\n",
       "      <th>to_pay</th>\n",
       "      <th>user_id</th>\n",
       "    </tr>\n",
       "  </thead>\n",
       "  <tbody>\n",
       "    <tr>\n",
       "      <th>0</th>\n",
       "      <td>ab9bfd247c</td>\n",
       "      <td>2015-01-01 00:15:00.000</td>\n",
       "      <td>4306.624048</td>\n",
       "      <td>0.0</td>\n",
       "      <td>0.000000</td>\n",
       "      <td>39844e5017</td>\n",
       "    </tr>\n",
       "    <tr>\n",
       "      <th>1</th>\n",
       "      <td>84fcde29cd</td>\n",
       "      <td>2015-01-01 00:15:00.000</td>\n",
       "      <td>619.669444</td>\n",
       "      <td>0.0</td>\n",
       "      <td>0.000000</td>\n",
       "      <td>561557d249</td>\n",
       "    </tr>\n",
       "    <tr>\n",
       "      <th>2</th>\n",
       "      <td>ae381649dc</td>\n",
       "      <td>2015-01-01 00:15:00.088</td>\n",
       "      <td>4585.154861</td>\n",
       "      <td>0.0</td>\n",
       "      <td>0.000000</td>\n",
       "      <td>1042717eab</td>\n",
       "    </tr>\n",
       "    <tr>\n",
       "      <th>3</th>\n",
       "      <td>a5e7a88d17</td>\n",
       "      <td>2015-01-01 00:20:00.000</td>\n",
       "      <td>2056.213621</td>\n",
       "      <td>0.0</td>\n",
       "      <td>2056.213621</td>\n",
       "      <td>34522dfa68</td>\n",
       "    </tr>\n",
       "    <tr>\n",
       "      <th>4</th>\n",
       "      <td>08cf450688</td>\n",
       "      <td>2015-01-01 00:20:00.000</td>\n",
       "      <td>3228.607512</td>\n",
       "      <td>0.0</td>\n",
       "      <td>0.000000</td>\n",
       "      <td>6229058c8d</td>\n",
       "    </tr>\n",
       "  </tbody>\n",
       "</table>\n",
       "</div>"
      ],
      "text/plain": [
       "     order_id                     s_at        price  credit       to_pay  \\\n",
       "0  ab9bfd247c  2015-01-01 00:15:00.000  4306.624048     0.0     0.000000   \n",
       "1  84fcde29cd  2015-01-01 00:15:00.000   619.669444     0.0     0.000000   \n",
       "2  ae381649dc  2015-01-01 00:15:00.088  4585.154861     0.0     0.000000   \n",
       "3  a5e7a88d17  2015-01-01 00:20:00.000  2056.213621     0.0  2056.213621   \n",
       "4  08cf450688  2015-01-01 00:20:00.000  3228.607512     0.0     0.000000   \n",
       "\n",
       "      user_id  \n",
       "0  39844e5017  \n",
       "1  561557d249  \n",
       "2  1042717eab  \n",
       "3  34522dfa68  \n",
       "4  6229058c8d  "
      ]
     },
     "execution_count": 124,
     "metadata": {},
     "output_type": "execute_result"
    }
   ],
   "source": [
    "orders.head()"
   ]
  },
  {
   "cell_type": "code",
   "execution_count": 147,
   "metadata": {
    "collapsed": true
   },
   "outputs": [],
   "source": [
    "users = pd.read_csv('users_task5.csv')"
   ]
  },
  {
   "cell_type": "code",
   "execution_count": 127,
   "metadata": {
    "collapsed": false
   },
   "outputs": [
    {
     "data": {
      "text/html": [
       "<div>\n",
       "<table border=\"1\" class=\"dataframe\">\n",
       "  <thead>\n",
       "    <tr style=\"text-align: right;\">\n",
       "      <th></th>\n",
       "      <th>user_id</th>\n",
       "      <th>roles</th>\n",
       "      <th>utm_c</th>\n",
       "    </tr>\n",
       "  </thead>\n",
       "  <tbody>\n",
       "    <tr>\n",
       "      <th>0</th>\n",
       "      <td>03efc1f069</td>\n",
       "      <td>[]</td>\n",
       "      <td>2a429d2ee</td>\n",
       "    </tr>\n",
       "    <tr>\n",
       "      <th>1</th>\n",
       "      <td>5306565935</td>\n",
       "      <td>[]</td>\n",
       "      <td>ae024364a</td>\n",
       "    </tr>\n",
       "    <tr>\n",
       "      <th>2</th>\n",
       "      <td>fb56e1f978</td>\n",
       "      <td>[]</td>\n",
       "      <td>ae024364a</td>\n",
       "    </tr>\n",
       "    <tr>\n",
       "      <th>3</th>\n",
       "      <td>c742e04d7b</td>\n",
       "      <td>[]</td>\n",
       "      <td>ae024364a</td>\n",
       "    </tr>\n",
       "    <tr>\n",
       "      <th>4</th>\n",
       "      <td>e10683e16c</td>\n",
       "      <td>[]</td>\n",
       "      <td>b217f631f</td>\n",
       "    </tr>\n",
       "  </tbody>\n",
       "</table>\n",
       "</div>"
      ],
      "text/plain": [
       "      user_id roles      utm_c\n",
       "0  03efc1f069    []  2a429d2ee\n",
       "1  5306565935    []  ae024364a\n",
       "2  fb56e1f978    []  ae024364a\n",
       "3  c742e04d7b    []  ae024364a\n",
       "4  e10683e16c    []  b217f631f"
      ]
     },
     "execution_count": 127,
     "metadata": {},
     "output_type": "execute_result"
    }
   ],
   "source": [
    "users.head()"
   ]
  },
  {
   "cell_type": "code",
   "execution_count": 136,
   "metadata": {
    "collapsed": true
   },
   "outputs": [],
   "source": [
    "promo = pd.read_csv('promocodes_task5.csv')"
   ]
  },
  {
   "cell_type": "code",
   "execution_count": 137,
   "metadata": {
    "collapsed": false
   },
   "outputs": [
    {
     "data": {
      "text/html": [
       "<div>\n",
       "<table border=\"1\" class=\"dataframe\">\n",
       "  <thead>\n",
       "    <tr style=\"text-align: right;\">\n",
       "      <th></th>\n",
       "      <th>code</th>\n",
       "      <th>user_id</th>\n",
       "    </tr>\n",
       "  </thead>\n",
       "  <tbody>\n",
       "    <tr>\n",
       "      <th>0</th>\n",
       "      <td>2060bc929</td>\n",
       "      <td>acbffed967</td>\n",
       "    </tr>\n",
       "    <tr>\n",
       "      <th>1</th>\n",
       "      <td>16ffbbdd0</td>\n",
       "      <td>23c5ee42a9</td>\n",
       "    </tr>\n",
       "    <tr>\n",
       "      <th>2</th>\n",
       "      <td>2b619e6e2</td>\n",
       "      <td>aea4d361c4</td>\n",
       "    </tr>\n",
       "    <tr>\n",
       "      <th>3</th>\n",
       "      <td>557d5e74f</td>\n",
       "      <td>744b730a41</td>\n",
       "    </tr>\n",
       "    <tr>\n",
       "      <th>4</th>\n",
       "      <td>b6d28ef96</td>\n",
       "      <td>644cf7fe7b</td>\n",
       "    </tr>\n",
       "  </tbody>\n",
       "</table>\n",
       "</div>"
      ],
      "text/plain": [
       "        code     user_id\n",
       "0  2060bc929  acbffed967\n",
       "1  16ffbbdd0  23c5ee42a9\n",
       "2  2b619e6e2  aea4d361c4\n",
       "3  557d5e74f  744b730a41\n",
       "4  b6d28ef96  644cf7fe7b"
      ]
     },
     "execution_count": 137,
     "metadata": {},
     "output_type": "execute_result"
    }
   ],
   "source": [
    "promo.head()"
   ]
  },
  {
   "cell_type": "markdown",
   "metadata": {},
   "source": [
    "We add an additional column to the users table which contains 1 if this user is an affiliate and 0 else."
   ]
  },
  {
   "cell_type": "code",
   "execution_count": 153,
   "metadata": {
    "collapsed": false
   },
   "outputs": [],
   "source": [
    "users['is-affiliate'] = users.apply(lambda row: 1 if 'affiliate' in row['roles'] else 0, axis=1)"
   ]
  },
  {
   "cell_type": "markdown",
   "metadata": {},
   "source": [
    "We take affiliates from the users table, find their promo codes in the promocodes table and drop unneeded columns."
   ]
  },
  {
   "cell_type": "code",
   "execution_count": 162,
   "metadata": {
    "collapsed": true
   },
   "outputs": [],
   "source": [
    "affiliates = users[users['is-affiliate'] == 1]"
   ]
  },
  {
   "cell_type": "code",
   "execution_count": 163,
   "metadata": {
    "collapsed": true
   },
   "outputs": [],
   "source": [
    "aff_promo = pd.merge(affiliates, promo, how='inner', on='user_id')"
   ]
  },
  {
   "cell_type": "code",
   "execution_count": 165,
   "metadata": {
    "collapsed": false
   },
   "outputs": [],
   "source": [
    "aff_promo.drop(['roles', 'utm_c', 'is-affiliate'], axis=1, inplace=True)"
   ]
  },
  {
   "cell_type": "code",
   "execution_count": 167,
   "metadata": {
    "collapsed": true
   },
   "outputs": [],
   "source": [
    "aff_promo.columns = ['aff_id', 'utm_c']"
   ]
  },
  {
   "cell_type": "code",
   "execution_count": 168,
   "metadata": {
    "collapsed": false
   },
   "outputs": [
    {
     "data": {
      "text/html": [
       "<div>\n",
       "<table border=\"1\" class=\"dataframe\">\n",
       "  <thead>\n",
       "    <tr style=\"text-align: right;\">\n",
       "      <th></th>\n",
       "      <th>aff_id</th>\n",
       "      <th>utm_c</th>\n",
       "    </tr>\n",
       "  </thead>\n",
       "  <tbody>\n",
       "    <tr>\n",
       "      <th>0</th>\n",
       "      <td>d891c8305a</td>\n",
       "      <td>73a24f3d1</td>\n",
       "    </tr>\n",
       "    <tr>\n",
       "      <th>1</th>\n",
       "      <td>f94d3de761</td>\n",
       "      <td>0f87d693a</td>\n",
       "    </tr>\n",
       "    <tr>\n",
       "      <th>2</th>\n",
       "      <td>b1a6cf0230</td>\n",
       "      <td>41c191655</td>\n",
       "    </tr>\n",
       "    <tr>\n",
       "      <th>3</th>\n",
       "      <td>e7717637a4</td>\n",
       "      <td>155c55d39</td>\n",
       "    </tr>\n",
       "    <tr>\n",
       "      <th>4</th>\n",
       "      <td>d774d65c49</td>\n",
       "      <td>5907960e6</td>\n",
       "    </tr>\n",
       "  </tbody>\n",
       "</table>\n",
       "</div>"
      ],
      "text/plain": [
       "       aff_id      utm_c\n",
       "0  d891c8305a  73a24f3d1\n",
       "1  f94d3de761  0f87d693a\n",
       "2  b1a6cf0230  41c191655\n",
       "3  e7717637a4  155c55d39\n",
       "4  d774d65c49  5907960e6"
      ]
     },
     "execution_count": 168,
     "metadata": {},
     "output_type": "execute_result"
    }
   ],
   "source": [
    "aff_promo.head()"
   ]
  },
  {
   "cell_type": "markdown",
   "metadata": {},
   "source": [
    "Next we find users invited with their promo codes."
   ]
  },
  {
   "cell_type": "code",
   "execution_count": 169,
   "metadata": {
    "collapsed": true
   },
   "outputs": [],
   "source": [
    "aff_invited = pd.merge(aff_promo, users, how='inner', on='utm_c')"
   ]
  },
  {
   "cell_type": "markdown",
   "metadata": {},
   "source": [
    "We remove affiliates from the list and drop excessive columns."
   ]
  },
  {
   "cell_type": "code",
   "execution_count": 172,
   "metadata": {
    "collapsed": false
   },
   "outputs": [],
   "source": [
    "aff_invited = aff_invited[aff_invited['is-affiliate'] == 0]"
   ]
  },
  {
   "cell_type": "code",
   "execution_count": 174,
   "metadata": {
    "collapsed": false
   },
   "outputs": [],
   "source": [
    "aff_invited.drop(['utm_c', 'roles', 'is-affiliate'], axis=1, inplace=True)"
   ]
  },
  {
   "cell_type": "code",
   "execution_count": 175,
   "metadata": {
    "collapsed": false
   },
   "outputs": [
    {
     "data": {
      "text/html": [
       "<div>\n",
       "<table border=\"1\" class=\"dataframe\">\n",
       "  <thead>\n",
       "    <tr style=\"text-align: right;\">\n",
       "      <th></th>\n",
       "      <th>aff_id</th>\n",
       "      <th>user_id</th>\n",
       "    </tr>\n",
       "  </thead>\n",
       "  <tbody>\n",
       "    <tr>\n",
       "      <th>0</th>\n",
       "      <td>f94d3de761</td>\n",
       "      <td>8c527c2387</td>\n",
       "    </tr>\n",
       "    <tr>\n",
       "      <th>1</th>\n",
       "      <td>f94d3de761</td>\n",
       "      <td>254cb6b0e3</td>\n",
       "    </tr>\n",
       "    <tr>\n",
       "      <th>2</th>\n",
       "      <td>f94d3de761</td>\n",
       "      <td>a2aa16cea2</td>\n",
       "    </tr>\n",
       "    <tr>\n",
       "      <th>3</th>\n",
       "      <td>f94d3de761</td>\n",
       "      <td>0535431153</td>\n",
       "    </tr>\n",
       "    <tr>\n",
       "      <th>4</th>\n",
       "      <td>f94d3de761</td>\n",
       "      <td>b16dbc5c06</td>\n",
       "    </tr>\n",
       "  </tbody>\n",
       "</table>\n",
       "</div>"
      ],
      "text/plain": [
       "       aff_id     user_id\n",
       "0  f94d3de761  8c527c2387\n",
       "1  f94d3de761  254cb6b0e3\n",
       "2  f94d3de761  a2aa16cea2\n",
       "3  f94d3de761  0535431153\n",
       "4  f94d3de761  b16dbc5c06"
      ]
     },
     "execution_count": 175,
     "metadata": {},
     "output_type": "execute_result"
    }
   ],
   "source": [
    "aff_invited.head()"
   ]
  },
  {
   "cell_type": "markdown",
   "metadata": {},
   "source": [
    "Let's calculate number of invited users for each affiliate."
   ]
  },
  {
   "cell_type": "code",
   "execution_count": 197,
   "metadata": {
    "collapsed": false
   },
   "outputs": [],
   "source": [
    "invited_num = aff_invited.groupby(by=aff_invited.aff_id).count()"
   ]
  },
  {
   "cell_type": "markdown",
   "metadata": {},
   "source": [
    "Next we get orders of invited clients and calculate financial result for each affiliate."
   ]
  },
  {
   "cell_type": "code",
   "execution_count": 176,
   "metadata": {
    "collapsed": true
   },
   "outputs": [],
   "source": [
    "aff_invited_orders = pd.merge(aff_invited, orders, how='inner', on='user_id')"
   ]
  },
  {
   "cell_type": "code",
   "execution_count": 177,
   "metadata": {
    "collapsed": false
   },
   "outputs": [
    {
     "data": {
      "text/html": [
       "<div>\n",
       "<table border=\"1\" class=\"dataframe\">\n",
       "  <thead>\n",
       "    <tr style=\"text-align: right;\">\n",
       "      <th></th>\n",
       "      <th>aff_id</th>\n",
       "      <th>user_id</th>\n",
       "      <th>order_id</th>\n",
       "      <th>s_at</th>\n",
       "      <th>price</th>\n",
       "      <th>credit</th>\n",
       "      <th>to_pay</th>\n",
       "    </tr>\n",
       "  </thead>\n",
       "  <tbody>\n",
       "    <tr>\n",
       "      <th>0</th>\n",
       "      <td>f94d3de761</td>\n",
       "      <td>8c527c2387</td>\n",
       "      <td>e459d9d5a7</td>\n",
       "      <td>2016-03-30 23:51:10.836</td>\n",
       "      <td>1962.269158</td>\n",
       "      <td>500.0</td>\n",
       "      <td>0.0</td>\n",
       "    </tr>\n",
       "    <tr>\n",
       "      <th>1</th>\n",
       "      <td>f94d3de761</td>\n",
       "      <td>8c527c2387</td>\n",
       "      <td>f518ab18a5</td>\n",
       "      <td>2016-04-22 15:38:41.829</td>\n",
       "      <td>300.000000</td>\n",
       "      <td>0.0</td>\n",
       "      <td>300.0</td>\n",
       "    </tr>\n",
       "    <tr>\n",
       "      <th>2</th>\n",
       "      <td>f94d3de761</td>\n",
       "      <td>a2aa16cea2</td>\n",
       "      <td>7c47dc7c6e</td>\n",
       "      <td>2016-06-15 16:48:21.624</td>\n",
       "      <td>300.000000</td>\n",
       "      <td>500.0</td>\n",
       "      <td>0.0</td>\n",
       "    </tr>\n",
       "    <tr>\n",
       "      <th>3</th>\n",
       "      <td>f94d3de761</td>\n",
       "      <td>a2aa16cea2</td>\n",
       "      <td>1509dfc835</td>\n",
       "      <td>2016-06-15 21:37:27.493</td>\n",
       "      <td>460.442076</td>\n",
       "      <td>0.0</td>\n",
       "      <td>0.0</td>\n",
       "    </tr>\n",
       "    <tr>\n",
       "      <th>4</th>\n",
       "      <td>f94d3de761</td>\n",
       "      <td>59248ecf78</td>\n",
       "      <td>de200ba5ca</td>\n",
       "      <td>2015-12-05 04:13:04.362</td>\n",
       "      <td>1477.705965</td>\n",
       "      <td>500.0</td>\n",
       "      <td>0.0</td>\n",
       "    </tr>\n",
       "  </tbody>\n",
       "</table>\n",
       "</div>"
      ],
      "text/plain": [
       "       aff_id     user_id    order_id                     s_at        price  \\\n",
       "0  f94d3de761  8c527c2387  e459d9d5a7  2016-03-30 23:51:10.836  1962.269158   \n",
       "1  f94d3de761  8c527c2387  f518ab18a5  2016-04-22 15:38:41.829   300.000000   \n",
       "2  f94d3de761  a2aa16cea2  7c47dc7c6e  2016-06-15 16:48:21.624   300.000000   \n",
       "3  f94d3de761  a2aa16cea2  1509dfc835  2016-06-15 21:37:27.493   460.442076   \n",
       "4  f94d3de761  59248ecf78  de200ba5ca  2015-12-05 04:13:04.362  1477.705965   \n",
       "\n",
       "   credit  to_pay  \n",
       "0   500.0     0.0  \n",
       "1     0.0   300.0  \n",
       "2   500.0     0.0  \n",
       "3     0.0     0.0  \n",
       "4   500.0     0.0  "
      ]
     },
     "execution_count": 177,
     "metadata": {},
     "output_type": "execute_result"
    }
   ],
   "source": [
    "aff_invited_orders.head()"
   ]
  },
  {
   "cell_type": "code",
   "execution_count": 180,
   "metadata": {
    "collapsed": false
   },
   "outputs": [],
   "source": [
    "aff_results = aff_invited_orders.groupby(by='aff_id')['price', 'credit', 'to_pay'].sum()"
   ]
  },
  {
   "cell_type": "markdown",
   "metadata": {},
   "source": [
    "Wheely earns 20% of each ride price. From this sum Wheely loses all customer debt cause the company needs to pay to a driver and get no money.  Wheely loses credit because it get no money and needs to pay to drivers, now or in the future if credit is still underused."
   ]
  },
  {
   "cell_type": "code",
   "execution_count": 193,
   "metadata": {
    "collapsed": false
   },
   "outputs": [],
   "source": [
    "aff_results['result'] = aff_results.apply(lambda row: .2*row['price']-row['to_pay']-row['credit'],\n",
    "                                          axis=1)"
   ]
  },
  {
   "cell_type": "markdown",
   "metadata": {},
   "source": [
    "From these direct financial results coming from invited users we need to substract costs: promo credits given to affiliates: 500 RUB initially plus 500 RUB per attracted customer who did a ride. "
   ]
  },
  {
   "cell_type": "code",
   "execution_count": 200,
   "metadata": {
    "collapsed": false
   },
   "outputs": [],
   "source": [
    "aff_final = pd.merge(aff_results, invited_num, how='inner', left_index=True, right_index=True)"
   ]
  },
  {
   "cell_type": "code",
   "execution_count": 212,
   "metadata": {
    "collapsed": false
   },
   "outputs": [
    {
     "data": {
      "text/html": [
       "<div>\n",
       "<table border=\"1\" class=\"dataframe\">\n",
       "  <thead>\n",
       "    <tr style=\"text-align: right;\">\n",
       "      <th></th>\n",
       "      <th>price</th>\n",
       "      <th>credit</th>\n",
       "      <th>to_pay</th>\n",
       "      <th>result</th>\n",
       "      <th>user_id</th>\n",
       "      <th>final_result</th>\n",
       "    </tr>\n",
       "    <tr>\n",
       "      <th>aff_id</th>\n",
       "      <th></th>\n",
       "      <th></th>\n",
       "      <th></th>\n",
       "      <th></th>\n",
       "      <th></th>\n",
       "      <th></th>\n",
       "    </tr>\n",
       "  </thead>\n",
       "  <tbody>\n",
       "    <tr>\n",
       "      <th>00143ea850</th>\n",
       "      <td>21248.462122</td>\n",
       "      <td>500.0</td>\n",
       "      <td>0.0</td>\n",
       "      <td>3749.692424</td>\n",
       "      <td>1</td>\n",
       "      <td>2749.692424</td>\n",
       "    </tr>\n",
       "    <tr>\n",
       "      <th>0199160a3b</th>\n",
       "      <td>300.000000</td>\n",
       "      <td>500.0</td>\n",
       "      <td>0.0</td>\n",
       "      <td>-440.000000</td>\n",
       "      <td>7</td>\n",
       "      <td>-4440.000000</td>\n",
       "    </tr>\n",
       "    <tr>\n",
       "      <th>020d1cb3a9</th>\n",
       "      <td>1047.876976</td>\n",
       "      <td>1500.0</td>\n",
       "      <td>0.0</td>\n",
       "      <td>-1290.424605</td>\n",
       "      <td>1</td>\n",
       "      <td>-2290.424605</td>\n",
       "    </tr>\n",
       "    <tr>\n",
       "      <th>09b2d849aa</th>\n",
       "      <td>3283.003089</td>\n",
       "      <td>1000.0</td>\n",
       "      <td>0.0</td>\n",
       "      <td>-343.399382</td>\n",
       "      <td>3</td>\n",
       "      <td>-2343.399382</td>\n",
       "    </tr>\n",
       "    <tr>\n",
       "      <th>14819cea5e</th>\n",
       "      <td>22627.710175</td>\n",
       "      <td>1500.0</td>\n",
       "      <td>0.0</td>\n",
       "      <td>3025.542035</td>\n",
       "      <td>17</td>\n",
       "      <td>-5974.457965</td>\n",
       "    </tr>\n",
       "  </tbody>\n",
       "</table>\n",
       "</div>"
      ],
      "text/plain": [
       "                   price  credit  to_pay       result  user_id  final_result\n",
       "aff_id                                                                      \n",
       "00143ea850  21248.462122   500.0     0.0  3749.692424        1   2749.692424\n",
       "0199160a3b    300.000000   500.0     0.0  -440.000000        7  -4440.000000\n",
       "020d1cb3a9   1047.876976  1500.0     0.0 -1290.424605        1  -2290.424605\n",
       "09b2d849aa   3283.003089  1000.0     0.0  -343.399382        3  -2343.399382\n",
       "14819cea5e  22627.710175  1500.0     0.0  3025.542035       17  -5974.457965"
      ]
     },
     "execution_count": 212,
     "metadata": {},
     "output_type": "execute_result"
    }
   ],
   "source": [
    "aff_final.head()"
   ]
  },
  {
   "cell_type": "code",
   "execution_count": 202,
   "metadata": {
    "collapsed": true
   },
   "outputs": [],
   "source": [
    "aff_final['final_result'] = aff_final['result']-(aff_final['user_id']+1)*500"
   ]
  },
  {
   "cell_type": "code",
   "execution_count": 213,
   "metadata": {
    "collapsed": true
   },
   "outputs": [],
   "source": [
    "aff_final.columns = ['price', 'credit', 'to_pay', 'result', 'num_invited', 'final_result']"
   ]
  },
  {
   "cell_type": "code",
   "execution_count": 214,
   "metadata": {
    "collapsed": false
   },
   "outputs": [
    {
     "data": {
      "text/html": [
       "<div>\n",
       "<table border=\"1\" class=\"dataframe\">\n",
       "  <thead>\n",
       "    <tr style=\"text-align: right;\">\n",
       "      <th></th>\n",
       "      <th>price</th>\n",
       "      <th>credit</th>\n",
       "      <th>to_pay</th>\n",
       "      <th>result</th>\n",
       "      <th>num_invited</th>\n",
       "      <th>final_result</th>\n",
       "    </tr>\n",
       "    <tr>\n",
       "      <th>aff_id</th>\n",
       "      <th></th>\n",
       "      <th></th>\n",
       "      <th></th>\n",
       "      <th></th>\n",
       "      <th></th>\n",
       "      <th></th>\n",
       "    </tr>\n",
       "  </thead>\n",
       "  <tbody>\n",
       "    <tr>\n",
       "      <th>00143ea850</th>\n",
       "      <td>21248.462122</td>\n",
       "      <td>500.0</td>\n",
       "      <td>0.0</td>\n",
       "      <td>3749.692424</td>\n",
       "      <td>1</td>\n",
       "      <td>2749.692424</td>\n",
       "    </tr>\n",
       "    <tr>\n",
       "      <th>0199160a3b</th>\n",
       "      <td>300.000000</td>\n",
       "      <td>500.0</td>\n",
       "      <td>0.0</td>\n",
       "      <td>-440.000000</td>\n",
       "      <td>7</td>\n",
       "      <td>-4440.000000</td>\n",
       "    </tr>\n",
       "    <tr>\n",
       "      <th>020d1cb3a9</th>\n",
       "      <td>1047.876976</td>\n",
       "      <td>1500.0</td>\n",
       "      <td>0.0</td>\n",
       "      <td>-1290.424605</td>\n",
       "      <td>1</td>\n",
       "      <td>-2290.424605</td>\n",
       "    </tr>\n",
       "    <tr>\n",
       "      <th>09b2d849aa</th>\n",
       "      <td>3283.003089</td>\n",
       "      <td>1000.0</td>\n",
       "      <td>0.0</td>\n",
       "      <td>-343.399382</td>\n",
       "      <td>3</td>\n",
       "      <td>-2343.399382</td>\n",
       "    </tr>\n",
       "    <tr>\n",
       "      <th>14819cea5e</th>\n",
       "      <td>22627.710175</td>\n",
       "      <td>1500.0</td>\n",
       "      <td>0.0</td>\n",
       "      <td>3025.542035</td>\n",
       "      <td>17</td>\n",
       "      <td>-5974.457965</td>\n",
       "    </tr>\n",
       "  </tbody>\n",
       "</table>\n",
       "</div>"
      ],
      "text/plain": [
       "                   price  credit  to_pay       result  num_invited  \\\n",
       "aff_id                                                               \n",
       "00143ea850  21248.462122   500.0     0.0  3749.692424            1   \n",
       "0199160a3b    300.000000   500.0     0.0  -440.000000            7   \n",
       "020d1cb3a9   1047.876976  1500.0     0.0 -1290.424605            1   \n",
       "09b2d849aa   3283.003089  1000.0     0.0  -343.399382            3   \n",
       "14819cea5e  22627.710175  1500.0     0.0  3025.542035           17   \n",
       "\n",
       "            final_result  \n",
       "aff_id                    \n",
       "00143ea850   2749.692424  \n",
       "0199160a3b  -4440.000000  \n",
       "020d1cb3a9  -2290.424605  \n",
       "09b2d849aa  -2343.399382  \n",
       "14819cea5e  -5974.457965  "
      ]
     },
     "execution_count": 214,
     "metadata": {},
     "output_type": "execute_result"
    }
   ],
   "source": [
    "aff_final.head()"
   ]
  },
  {
   "cell_type": "code",
   "execution_count": 215,
   "metadata": {
    "collapsed": false
   },
   "outputs": [
    {
     "data": {
      "text/html": [
       "<div>\n",
       "<table border=\"1\" class=\"dataframe\">\n",
       "  <thead>\n",
       "    <tr style=\"text-align: right;\">\n",
       "      <th></th>\n",
       "      <th>price</th>\n",
       "      <th>credit</th>\n",
       "      <th>to_pay</th>\n",
       "      <th>result</th>\n",
       "      <th>num_invited</th>\n",
       "      <th>final_result</th>\n",
       "    </tr>\n",
       "    <tr>\n",
       "      <th>aff_id</th>\n",
       "      <th></th>\n",
       "      <th></th>\n",
       "      <th></th>\n",
       "      <th></th>\n",
       "      <th></th>\n",
       "      <th></th>\n",
       "    </tr>\n",
       "  </thead>\n",
       "  <tbody>\n",
       "    <tr>\n",
       "      <th>00143ea850</th>\n",
       "      <td>21248.462122</td>\n",
       "      <td>500.0</td>\n",
       "      <td>0.0</td>\n",
       "      <td>3749.692424</td>\n",
       "      <td>1</td>\n",
       "      <td>2749.692424</td>\n",
       "    </tr>\n",
       "    <tr>\n",
       "      <th>a3ae3125fe</th>\n",
       "      <td>228462.938123</td>\n",
       "      <td>10500.0</td>\n",
       "      <td>0.0</td>\n",
       "      <td>35192.587625</td>\n",
       "      <td>28</td>\n",
       "      <td>20692.587625</td>\n",
       "    </tr>\n",
       "  </tbody>\n",
       "</table>\n",
       "</div>"
      ],
      "text/plain": [
       "                    price   credit  to_pay        result  num_invited  \\\n",
       "aff_id                                                                  \n",
       "00143ea850   21248.462122    500.0     0.0   3749.692424            1   \n",
       "a3ae3125fe  228462.938123  10500.0     0.0  35192.587625           28   \n",
       "\n",
       "            final_result  \n",
       "aff_id                    \n",
       "00143ea850   2749.692424  \n",
       "a3ae3125fe  20692.587625  "
      ]
     },
     "execution_count": 215,
     "metadata": {},
     "output_type": "execute_result"
    }
   ],
   "source": [
    "aff_final[aff_final.final_result>0]"
   ]
  },
  {
   "cell_type": "code",
   "execution_count": 207,
   "metadata": {
    "collapsed": false
   },
   "outputs": [
    {
     "data": {
      "text/plain": [
       "89"
      ]
     },
     "execution_count": 207,
     "metadata": {},
     "output_type": "execute_result"
    }
   ],
   "source": [
    "len(aff_final)"
   ]
  },
  {
   "cell_type": "markdown",
   "metadata": {},
   "source": [
    "It turns out that considering direct effect only we have only 2 profitable affiliates: 00143ea850 and a3ae3125fe. Other 87 are unprofitable."
   ]
  },
  {
   "cell_type": "markdown",
   "metadata": {},
   "source": [
    "Of course we could use less strict profitability criteria, for example, we could avoid substracting credit given to affiliates cause their rides aren't done yet and could become profitable."
   ]
  },
  {
   "cell_type": "code",
   "execution_count": 216,
   "metadata": {
    "collapsed": false
   },
   "outputs": [
    {
     "data": {
      "text/html": [
       "<div>\n",
       "<table border=\"1\" class=\"dataframe\">\n",
       "  <thead>\n",
       "    <tr style=\"text-align: right;\">\n",
       "      <th></th>\n",
       "      <th>price</th>\n",
       "      <th>credit</th>\n",
       "      <th>to_pay</th>\n",
       "      <th>result</th>\n",
       "      <th>num_invited</th>\n",
       "      <th>final_result</th>\n",
       "    </tr>\n",
       "    <tr>\n",
       "      <th>aff_id</th>\n",
       "      <th></th>\n",
       "      <th></th>\n",
       "      <th></th>\n",
       "      <th></th>\n",
       "      <th></th>\n",
       "      <th></th>\n",
       "    </tr>\n",
       "  </thead>\n",
       "  <tbody>\n",
       "    <tr>\n",
       "      <th>00143ea850</th>\n",
       "      <td>2.124846e+04</td>\n",
       "      <td>500.0</td>\n",
       "      <td>0.000000</td>\n",
       "      <td>3749.692424</td>\n",
       "      <td>1</td>\n",
       "      <td>2749.692424</td>\n",
       "    </tr>\n",
       "    <tr>\n",
       "      <th>14819cea5e</th>\n",
       "      <td>2.262771e+04</td>\n",
       "      <td>1500.0</td>\n",
       "      <td>0.000000</td>\n",
       "      <td>3025.542035</td>\n",
       "      <td>17</td>\n",
       "      <td>-5974.457965</td>\n",
       "    </tr>\n",
       "    <tr>\n",
       "      <th>25638fff05</th>\n",
       "      <td>4.530331e+03</td>\n",
       "      <td>500.0</td>\n",
       "      <td>0.000000</td>\n",
       "      <td>406.066114</td>\n",
       "      <td>5</td>\n",
       "      <td>-2593.933886</td>\n",
       "    </tr>\n",
       "    <tr>\n",
       "      <th>30f8ceee97</th>\n",
       "      <td>3.081104e+04</td>\n",
       "      <td>1500.0</td>\n",
       "      <td>0.000000</td>\n",
       "      <td>4662.207637</td>\n",
       "      <td>9</td>\n",
       "      <td>-337.792363</td>\n",
       "    </tr>\n",
       "    <tr>\n",
       "      <th>39a6f4629e</th>\n",
       "      <td>4.329297e+04</td>\n",
       "      <td>4000.0</td>\n",
       "      <td>300.000000</td>\n",
       "      <td>4358.593607</td>\n",
       "      <td>8</td>\n",
       "      <td>-141.406393</td>\n",
       "    </tr>\n",
       "    <tr>\n",
       "      <th>3ab26bd8b9</th>\n",
       "      <td>1.307605e+04</td>\n",
       "      <td>1000.0</td>\n",
       "      <td>0.000000</td>\n",
       "      <td>1615.210278</td>\n",
       "      <td>5</td>\n",
       "      <td>-1384.789722</td>\n",
       "    </tr>\n",
       "    <tr>\n",
       "      <th>4b9df617c2</th>\n",
       "      <td>5.823246e+04</td>\n",
       "      <td>9000.0</td>\n",
       "      <td>0.000000</td>\n",
       "      <td>2646.491728</td>\n",
       "      <td>33</td>\n",
       "      <td>-14353.508272</td>\n",
       "    </tr>\n",
       "    <tr>\n",
       "      <th>54e9b120b8</th>\n",
       "      <td>1.041551e+05</td>\n",
       "      <td>11000.0</td>\n",
       "      <td>4733.805561</td>\n",
       "      <td>5097.206308</td>\n",
       "      <td>52</td>\n",
       "      <td>-21402.793692</td>\n",
       "    </tr>\n",
       "    <tr>\n",
       "      <th>5866a635ad</th>\n",
       "      <td>1.687883e+04</td>\n",
       "      <td>2500.0</td>\n",
       "      <td>840.510732</td>\n",
       "      <td>35.255857</td>\n",
       "      <td>11</td>\n",
       "      <td>-5964.744143</td>\n",
       "    </tr>\n",
       "    <tr>\n",
       "      <th>5f745a74ea</th>\n",
       "      <td>1.875754e+05</td>\n",
       "      <td>12500.0</td>\n",
       "      <td>2228.816417</td>\n",
       "      <td>22786.273081</td>\n",
       "      <td>117</td>\n",
       "      <td>-36213.726919</td>\n",
       "    </tr>\n",
       "    <tr>\n",
       "      <th>61fa133c79</th>\n",
       "      <td>1.380869e+04</td>\n",
       "      <td>2500.0</td>\n",
       "      <td>0.000000</td>\n",
       "      <td>261.737196</td>\n",
       "      <td>16</td>\n",
       "      <td>-8238.262804</td>\n",
       "    </tr>\n",
       "    <tr>\n",
       "      <th>6bf9270677</th>\n",
       "      <td>8.249354e+03</td>\n",
       "      <td>1500.0</td>\n",
       "      <td>0.000000</td>\n",
       "      <td>149.870748</td>\n",
       "      <td>14</td>\n",
       "      <td>-7350.129252</td>\n",
       "    </tr>\n",
       "    <tr>\n",
       "      <th>6f77ad82a7</th>\n",
       "      <td>3.444344e+04</td>\n",
       "      <td>5000.0</td>\n",
       "      <td>0.000000</td>\n",
       "      <td>1888.688260</td>\n",
       "      <td>23</td>\n",
       "      <td>-10111.311740</td>\n",
       "    </tr>\n",
       "    <tr>\n",
       "      <th>8feeb3c236</th>\n",
       "      <td>1.086485e+03</td>\n",
       "      <td>0.0</td>\n",
       "      <td>0.000000</td>\n",
       "      <td>217.297094</td>\n",
       "      <td>4</td>\n",
       "      <td>-2282.702906</td>\n",
       "    </tr>\n",
       "    <tr>\n",
       "      <th>a12f7b9ea8</th>\n",
       "      <td>1.771751e+05</td>\n",
       "      <td>16500.0</td>\n",
       "      <td>0.000000</td>\n",
       "      <td>18935.011912</td>\n",
       "      <td>67</td>\n",
       "      <td>-15064.988088</td>\n",
       "    </tr>\n",
       "    <tr>\n",
       "      <th>a3ae3125fe</th>\n",
       "      <td>2.284629e+05</td>\n",
       "      <td>10500.0</td>\n",
       "      <td>0.000000</td>\n",
       "      <td>35192.587625</td>\n",
       "      <td>28</td>\n",
       "      <td>20692.587625</td>\n",
       "    </tr>\n",
       "    <tr>\n",
       "      <th>a3b40935f1</th>\n",
       "      <td>7.188495e+04</td>\n",
       "      <td>9500.0</td>\n",
       "      <td>0.000000</td>\n",
       "      <td>4876.989270</td>\n",
       "      <td>17</td>\n",
       "      <td>-4123.010730</td>\n",
       "    </tr>\n",
       "    <tr>\n",
       "      <th>ad02216348</th>\n",
       "      <td>4.479966e+04</td>\n",
       "      <td>7000.0</td>\n",
       "      <td>1131.166004</td>\n",
       "      <td>828.765531</td>\n",
       "      <td>44</td>\n",
       "      <td>-21671.234469</td>\n",
       "    </tr>\n",
       "    <tr>\n",
       "      <th>b1a6cf0230</th>\n",
       "      <td>2.696188e+04</td>\n",
       "      <td>2000.0</td>\n",
       "      <td>0.000000</td>\n",
       "      <td>3392.375013</td>\n",
       "      <td>16</td>\n",
       "      <td>-5107.624987</td>\n",
       "    </tr>\n",
       "    <tr>\n",
       "      <th>c5227bc6ec</th>\n",
       "      <td>1.541686e+03</td>\n",
       "      <td>0.0</td>\n",
       "      <td>0.000000</td>\n",
       "      <td>308.337260</td>\n",
       "      <td>2</td>\n",
       "      <td>-1191.662740</td>\n",
       "    </tr>\n",
       "    <tr>\n",
       "      <th>c52d9139a2</th>\n",
       "      <td>1.457791e+06</td>\n",
       "      <td>84000.0</td>\n",
       "      <td>24196.188471</td>\n",
       "      <td>183361.927326</td>\n",
       "      <td>367</td>\n",
       "      <td>-638.072674</td>\n",
       "    </tr>\n",
       "    <tr>\n",
       "      <th>c5f0b63976</th>\n",
       "      <td>6.163699e+04</td>\n",
       "      <td>5500.0</td>\n",
       "      <td>0.000000</td>\n",
       "      <td>6827.398387</td>\n",
       "      <td>76</td>\n",
       "      <td>-31672.601613</td>\n",
       "    </tr>\n",
       "    <tr>\n",
       "      <th>cda664208a</th>\n",
       "      <td>3.120692e+04</td>\n",
       "      <td>6000.0</td>\n",
       "      <td>0.000000</td>\n",
       "      <td>241.384183</td>\n",
       "      <td>26</td>\n",
       "      <td>-13258.615817</td>\n",
       "    </tr>\n",
       "    <tr>\n",
       "      <th>d20a2ac474</th>\n",
       "      <td>1.460852e+05</td>\n",
       "      <td>24500.0</td>\n",
       "      <td>0.000000</td>\n",
       "      <td>4717.033044</td>\n",
       "      <td>58</td>\n",
       "      <td>-24782.966956</td>\n",
       "    </tr>\n",
       "    <tr>\n",
       "      <th>d71b834a2d</th>\n",
       "      <td>3.611311e+04</td>\n",
       "      <td>7000.0</td>\n",
       "      <td>0.000000</td>\n",
       "      <td>222.622871</td>\n",
       "      <td>33</td>\n",
       "      <td>-16777.377129</td>\n",
       "    </tr>\n",
       "    <tr>\n",
       "      <th>e8b0a5f539</th>\n",
       "      <td>1.005759e+05</td>\n",
       "      <td>12500.0</td>\n",
       "      <td>0.000000</td>\n",
       "      <td>7615.171963</td>\n",
       "      <td>39</td>\n",
       "      <td>-12384.828037</td>\n",
       "    </tr>\n",
       "    <tr>\n",
       "      <th>f0e3b2548a</th>\n",
       "      <td>1.045433e+05</td>\n",
       "      <td>11500.0</td>\n",
       "      <td>0.000000</td>\n",
       "      <td>9408.654480</td>\n",
       "      <td>43</td>\n",
       "      <td>-12591.345520</td>\n",
       "    </tr>\n",
       "  </tbody>\n",
       "</table>\n",
       "</div>"
      ],
      "text/plain": [
       "                   price   credit        to_pay         result  num_invited  \\\n",
       "aff_id                                                                        \n",
       "00143ea850  2.124846e+04    500.0      0.000000    3749.692424            1   \n",
       "14819cea5e  2.262771e+04   1500.0      0.000000    3025.542035           17   \n",
       "25638fff05  4.530331e+03    500.0      0.000000     406.066114            5   \n",
       "30f8ceee97  3.081104e+04   1500.0      0.000000    4662.207637            9   \n",
       "39a6f4629e  4.329297e+04   4000.0    300.000000    4358.593607            8   \n",
       "3ab26bd8b9  1.307605e+04   1000.0      0.000000    1615.210278            5   \n",
       "4b9df617c2  5.823246e+04   9000.0      0.000000    2646.491728           33   \n",
       "54e9b120b8  1.041551e+05  11000.0   4733.805561    5097.206308           52   \n",
       "5866a635ad  1.687883e+04   2500.0    840.510732      35.255857           11   \n",
       "5f745a74ea  1.875754e+05  12500.0   2228.816417   22786.273081          117   \n",
       "61fa133c79  1.380869e+04   2500.0      0.000000     261.737196           16   \n",
       "6bf9270677  8.249354e+03   1500.0      0.000000     149.870748           14   \n",
       "6f77ad82a7  3.444344e+04   5000.0      0.000000    1888.688260           23   \n",
       "8feeb3c236  1.086485e+03      0.0      0.000000     217.297094            4   \n",
       "a12f7b9ea8  1.771751e+05  16500.0      0.000000   18935.011912           67   \n",
       "a3ae3125fe  2.284629e+05  10500.0      0.000000   35192.587625           28   \n",
       "a3b40935f1  7.188495e+04   9500.0      0.000000    4876.989270           17   \n",
       "ad02216348  4.479966e+04   7000.0   1131.166004     828.765531           44   \n",
       "b1a6cf0230  2.696188e+04   2000.0      0.000000    3392.375013           16   \n",
       "c5227bc6ec  1.541686e+03      0.0      0.000000     308.337260            2   \n",
       "c52d9139a2  1.457791e+06  84000.0  24196.188471  183361.927326          367   \n",
       "c5f0b63976  6.163699e+04   5500.0      0.000000    6827.398387           76   \n",
       "cda664208a  3.120692e+04   6000.0      0.000000     241.384183           26   \n",
       "d20a2ac474  1.460852e+05  24500.0      0.000000    4717.033044           58   \n",
       "d71b834a2d  3.611311e+04   7000.0      0.000000     222.622871           33   \n",
       "e8b0a5f539  1.005759e+05  12500.0      0.000000    7615.171963           39   \n",
       "f0e3b2548a  1.045433e+05  11500.0      0.000000    9408.654480           43   \n",
       "\n",
       "            final_result  \n",
       "aff_id                    \n",
       "00143ea850   2749.692424  \n",
       "14819cea5e  -5974.457965  \n",
       "25638fff05  -2593.933886  \n",
       "30f8ceee97   -337.792363  \n",
       "39a6f4629e   -141.406393  \n",
       "3ab26bd8b9  -1384.789722  \n",
       "4b9df617c2 -14353.508272  \n",
       "54e9b120b8 -21402.793692  \n",
       "5866a635ad  -5964.744143  \n",
       "5f745a74ea -36213.726919  \n",
       "61fa133c79  -8238.262804  \n",
       "6bf9270677  -7350.129252  \n",
       "6f77ad82a7 -10111.311740  \n",
       "8feeb3c236  -2282.702906  \n",
       "a12f7b9ea8 -15064.988088  \n",
       "a3ae3125fe  20692.587625  \n",
       "a3b40935f1  -4123.010730  \n",
       "ad02216348 -21671.234469  \n",
       "b1a6cf0230  -5107.624987  \n",
       "c5227bc6ec  -1191.662740  \n",
       "c52d9139a2   -638.072674  \n",
       "c5f0b63976 -31672.601613  \n",
       "cda664208a -13258.615817  \n",
       "d20a2ac474 -24782.966956  \n",
       "d71b834a2d -16777.377129  \n",
       "e8b0a5f539 -12384.828037  \n",
       "f0e3b2548a -12591.345520  "
      ]
     },
     "execution_count": 216,
     "metadata": {},
     "output_type": "execute_result"
    }
   ],
   "source": [
    "aff_final[aff_final.result>0]"
   ]
  },
  {
   "cell_type": "code",
   "execution_count": 217,
   "metadata": {
    "collapsed": false
   },
   "outputs": [
    {
     "data": {
      "text/plain": [
       "27"
      ]
     },
     "execution_count": 217,
     "metadata": {},
     "output_type": "execute_result"
    }
   ],
   "source": [
    "len(aff_final[aff_final.result>0])"
   ]
  },
  {
   "cell_type": "markdown",
   "metadata": {},
   "source": [
    "According to this less strict criteria we get 27 affiliates which we should continue to work with."
   ]
  }
 ],
 "metadata": {
  "anaconda-cloud": {},
  "kernelspec": {
   "display_name": "Python [conda root]",
   "language": "python",
   "name": "conda-root-py"
  },
  "language_info": {
   "codemirror_mode": {
    "name": "ipython",
    "version": 2
   },
   "file_extension": ".py",
   "mimetype": "text/x-python",
   "name": "python",
   "nbconvert_exporter": "python",
   "pygments_lexer": "ipython2",
   "version": "2.7.12"
  }
 },
 "nbformat": 4,
 "nbformat_minor": 1
}
